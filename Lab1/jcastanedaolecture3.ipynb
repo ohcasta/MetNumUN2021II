{
  "nbformat": 4,
  "nbformat_minor": 0,
  "metadata": {
    "kernelspec": {
      "name": "python3",
      "display_name": "Python 3"
    },
    "colab": {
      "name": "jcastanedaolecture3.ipynb",
      "provenance": [],
      "collapsed_sections": [
        "3uKJfzBAdBi9"
      ]
    }
  },
  "cells": [
    {
      "cell_type": "markdown",
      "metadata": {
        "id": "alHiCBgUdBiS"
      },
      "source": [
        "# Introduction to NumPy\n",
        "by Maxwell Margenot\n",
        "\n",
        "Part of the Quantopian Lecture Series:\n",
        "\n",
        "* [www.quantopian.com/lectures](https://www.quantopian.com/lectures)\n",
        "* [github.com/quantopian/research_public](https://github.com/quantopian/research_public)\n",
        "\n",
        "Notebook released under the Creative Commons Attribution 4.0 License."
      ]
    },
    {
      "cell_type": "markdown",
      "metadata": {
        "id": "xbeh_pH3dBiV"
      },
      "source": [
        "NumPy is an incredibly powerful package in Python that is ubiquitous throughout the Quantopian platform. It has strong integration with Pandas, another tool we will be covering in the lecture series. NumPy adds support for multi-dimensional arrays and mathematical functions that allow you to easily perform linear algebra calculations. This lecture will be a collection of linear algebra examples computed using NumPy."
      ]
    },
    {
      "cell_type": "code",
      "metadata": {
        "collapsed": true,
        "id": "pEMdnnlBdBiX"
      },
      "source": [
        "import numpy as np\n",
        "import matplotlib.pyplot as plt"
      ],
      "execution_count": 1,
      "outputs": []
    },
    {
      "cell_type": "markdown",
      "metadata": {
        "id": "TEDdLABedBiY"
      },
      "source": [
        "### Basic NumPy arrays"
      ]
    },
    {
      "cell_type": "markdown",
      "metadata": {
        "id": "EA3gLEdRdBiZ"
      },
      "source": [
        "The most basic way that we could make use of NumPy in finance is calculating the mean return of a portfolio. Say that we have a list containing the historical return of several stocks."
      ]
    },
    {
      "cell_type": "code",
      "metadata": {
        "collapsed": true,
        "id": "sjZ09I_FdBia"
      },
      "source": [
        "stock_list = [4.8, 3.7, 4, 9.2, 5.3]"
      ],
      "execution_count": 50,
      "outputs": []
    },
    {
      "cell_type": "code",
      "metadata": {
        "id": "YQaL8PZysh7K"
      },
      "source": [
        "example = [5.98, 1.76, 1.88, 3.44, 5.01, 7.0]"
      ],
      "execution_count": 3,
      "outputs": []
    },
    {
      "cell_type": "markdown",
      "metadata": {
        "id": "3VghGYvTdBia"
      },
      "source": [
        "We can make an array by calling a function on the list:"
      ]
    },
    {
      "cell_type": "code",
      "metadata": {
        "colab": {
          "base_uri": "https://localhost:8080/"
        },
        "id": "AMzA42V0dBib",
        "outputId": "5008395f-7c49-4354-9c86-657657f5e0b6"
      },
      "source": [
        "returns = np.array(stock_list)\n",
        "print(returns, type(returns))"
      ],
      "execution_count": 51,
      "outputs": [
        {
          "output_type": "stream",
          "text": [
            "[4.8 3.7 4.  9.2 5.3] <class 'numpy.ndarray'>\n"
          ],
          "name": "stdout"
        }
      ]
    },
    {
      "cell_type": "code",
      "metadata": {
        "colab": {
          "base_uri": "https://localhost:8080/"
        },
        "id": "8vfdGCJPskLK",
        "outputId": "b9389a5d-a29e-42f0-9c78-b29aaddbe8e7"
      },
      "source": [
        "returns1 = np.array(example)\r\n",
        "print(returns1, type(returns1))"
      ],
      "execution_count": 4,
      "outputs": [
        {
          "output_type": "stream",
          "text": [
            "[5.98 1.76 1.88 3.44 5.01 7.  ] <class 'numpy.ndarray'>\n"
          ],
          "name": "stdout"
        }
      ]
    },
    {
      "cell_type": "markdown",
      "metadata": {
        "id": "z70tZ1rbdBic"
      },
      "source": [
        "You'll notice that the type of our array is 'ndarray', not just 'array'. This is because NumPy arrays can be created with multiple dimensions. If we pass np.array() a list of lists, it will create a 2-dimensional array. If we pass a list of lists of lists, it will create a 3-dimensional array, and so on and so forth."
      ]
    },
    {
      "cell_type": "code",
      "metadata": {
        "colab": {
          "base_uri": "https://localhost:8080/"
        },
        "id": "iC4H9dSTdBid",
        "outputId": "7aa62b83-b4d3-45ae-ab9d-f250e02f5f99"
      },
      "source": [
        "A = np.array([[1, 2], [3, 4]])\n",
        "print(A, type(A))"
      ],
      "execution_count": 52,
      "outputs": [
        {
          "output_type": "stream",
          "text": [
            "[[1 2]\n",
            " [3 4]] <class 'numpy.ndarray'>\n"
          ],
          "name": "stdout"
        }
      ]
    },
    {
      "cell_type": "code",
      "metadata": {
        "colab": {
          "base_uri": "https://localhost:8080/"
        },
        "id": "rj5vAFhusomT",
        "outputId": "982d26fe-bb8b-4119-e044-e58d268cd59f"
      },
      "source": [
        "B = np.array([[1, 2, 5], [3, 4, 6], [8, 9, 4], [10, 11, 2]])\r\n",
        "print(B, type(B))"
      ],
      "execution_count": 6,
      "outputs": [
        {
          "output_type": "stream",
          "text": [
            "[[ 1  2  5]\n",
            " [ 3  4  6]\n",
            " [ 8  9  4]\n",
            " [10 11  2]] <class 'numpy.ndarray'>\n"
          ],
          "name": "stdout"
        }
      ]
    },
    {
      "cell_type": "markdown",
      "metadata": {
        "id": "WJWBZf4EdBie"
      },
      "source": [
        "We can access the dimensions of an array by looking at its `shape` member variable."
      ]
    },
    {
      "cell_type": "code",
      "metadata": {
        "colab": {
          "base_uri": "https://localhost:8080/"
        },
        "id": "GkqFBjWfdBie",
        "outputId": "a786f92a-bcbf-489c-bf77-c8145ed65ac8"
      },
      "source": [
        "print(A.shape)"
      ],
      "execution_count": 53,
      "outputs": [
        {
          "output_type": "stream",
          "text": [
            "(2, 2)\n"
          ],
          "name": "stdout"
        }
      ]
    },
    {
      "cell_type": "code",
      "metadata": {
        "colab": {
          "base_uri": "https://localhost:8080/"
        },
        "id": "fYNQ7LNQs2Ft",
        "outputId": "ada4006e-f690-44cb-91f1-543d5ce46669"
      },
      "source": [
        "print(B.shape)"
      ],
      "execution_count": 7,
      "outputs": [
        {
          "output_type": "stream",
          "text": [
            "(4, 3)\n"
          ],
          "name": "stdout"
        }
      ]
    },
    {
      "cell_type": "markdown",
      "metadata": {
        "id": "rEBZu4w0dBif"
      },
      "source": [
        "Arrays are indexed in much the same way as lists in Python. Elements of a list begin indexing from $0$ and end at $n - 1$, where $n$ is the length of the array."
      ]
    },
    {
      "cell_type": "code",
      "metadata": {
        "colab": {
          "base_uri": "https://localhost:8080/"
        },
        "id": "LV2ZDMvvdBig",
        "outputId": "ab3bdabd-171c-4c39-d01b-347b1407229f"
      },
      "source": [
        "print(returns[0], returns[len(returns) - 1])"
      ],
      "execution_count": null,
      "outputs": [
        {
          "output_type": "stream",
          "text": [
            "3.5 4.2\n"
          ],
          "name": "stdout"
        }
      ]
    },
    {
      "cell_type": "code",
      "metadata": {
        "colab": {
          "base_uri": "https://localhost:8080/"
        },
        "id": "Tdz5K3Dts75a",
        "outputId": "6143f2fb-78d0-4ea6-d341-c890b6a4e14a"
      },
      "source": [
        "print(returns1[0], returns1[len(returns1) - 1])"
      ],
      "execution_count": 8,
      "outputs": [
        {
          "output_type": "stream",
          "text": [
            "5.98 7.0\n"
          ],
          "name": "stdout"
        }
      ]
    },
    {
      "cell_type": "markdown",
      "metadata": {
        "id": "5X4uDP4ZdBig"
      },
      "source": [
        "We can take a slice of an array using a colon, just like in a list."
      ]
    },
    {
      "cell_type": "code",
      "metadata": {
        "colab": {
          "base_uri": "https://localhost:8080/"
        },
        "id": "c3kOFFkedBih",
        "outputId": "3886265a-0c22-4633-97fe-a55ece486455"
      },
      "source": [
        "print(returns[1:3])"
      ],
      "execution_count": null,
      "outputs": [
        {
          "output_type": "stream",
          "text": [
            "[5. 2.]\n"
          ],
          "name": "stdout"
        }
      ]
    },
    {
      "cell_type": "code",
      "metadata": {
        "colab": {
          "base_uri": "https://localhost:8080/"
        },
        "id": "qBgOILBCtBKM",
        "outputId": "08aeb2a4-052e-44d8-fde0-8e924396bd1c"
      },
      "source": [
        "print(returns1[2:4])"
      ],
      "execution_count": 9,
      "outputs": [
        {
          "output_type": "stream",
          "text": [
            "[1.88 3.44]\n"
          ],
          "name": "stdout"
        }
      ]
    },
    {
      "cell_type": "markdown",
      "metadata": {
        "id": "kBOPkTKxdBii"
      },
      "source": [
        "A slice of an array, like in a list, will select a group of elements in the array starting from the first element indicated and going up to (but not including) the last element indicated.\n",
        "\n",
        "In the case of multidimensional arrays, many of the same conventions with slicing and indexing hold. We can access the first column of a 2-dimensional array like so:"
      ]
    },
    {
      "cell_type": "code",
      "metadata": {
        "colab": {
          "base_uri": "https://localhost:8080/"
        },
        "id": "BaNDBmoKdBii",
        "outputId": "8c1e1e9e-74a7-4a12-ef0d-f887f12e20c3"
      },
      "source": [
        "print(A[:, 0])"
      ],
      "execution_count": null,
      "outputs": [
        {
          "output_type": "stream",
          "text": [
            "[1 3]\n"
          ],
          "name": "stdout"
        }
      ]
    },
    {
      "cell_type": "code",
      "metadata": {
        "colab": {
          "base_uri": "https://localhost:8080/"
        },
        "id": "6nkUznFutHO-",
        "outputId": "314d14d2-964a-4dcd-d8fd-22a89bc5f28f"
      },
      "source": [
        "print(B[:, 0])"
      ],
      "execution_count": 10,
      "outputs": [
        {
          "output_type": "stream",
          "text": [
            "[ 1  3  8 10]\n"
          ],
          "name": "stdout"
        }
      ]
    },
    {
      "cell_type": "markdown",
      "metadata": {
        "id": "8ZnXbUYYdBij"
      },
      "source": [
        "And the first row of a 2-dimensional array like so:"
      ]
    },
    {
      "cell_type": "code",
      "metadata": {
        "colab": {
          "base_uri": "https://localhost:8080/"
        },
        "id": "d7-WaC_2dBij",
        "outputId": "4f41c580-b4e1-401d-93b8-749df9df3665"
      },
      "source": [
        "print(A[0, :])"
      ],
      "execution_count": null,
      "outputs": [
        {
          "output_type": "stream",
          "text": [
            "[1 2]\n"
          ],
          "name": "stdout"
        }
      ]
    },
    {
      "cell_type": "code",
      "metadata": {
        "colab": {
          "base_uri": "https://localhost:8080/"
        },
        "id": "Rw3DSut2tNYi",
        "outputId": "c3495de8-91b7-49b2-f96d-2d4f3c8eec84"
      },
      "source": [
        "print(B[0, :])"
      ],
      "execution_count": 11,
      "outputs": [
        {
          "output_type": "stream",
          "text": [
            "[1 2 5]\n"
          ],
          "name": "stdout"
        }
      ]
    },
    {
      "cell_type": "markdown",
      "metadata": {
        "id": "IH0vRo5cdBik"
      },
      "source": [
        "Notice that each slice of the array returns yet another array!"
      ]
    },
    {
      "cell_type": "code",
      "metadata": {
        "colab": {
          "base_uri": "https://localhost:8080/"
        },
        "id": "o-HuzCvMdBik",
        "outputId": "eb5f1059-2f39-4d1e-c6a7-4a0d97757cca"
      },
      "source": [
        "print(type(A[0,:]))"
      ],
      "execution_count": null,
      "outputs": [
        {
          "output_type": "stream",
          "text": [
            "<class 'numpy.ndarray'>\n"
          ],
          "name": "stdout"
        }
      ]
    },
    {
      "cell_type": "code",
      "metadata": {
        "colab": {
          "base_uri": "https://localhost:8080/"
        },
        "id": "r-b8bfjDtRq-",
        "outputId": "9edc6bad-5f72-4f02-af12-a181c23e47c5"
      },
      "source": [
        "print(type(B[0,:]))"
      ],
      "execution_count": 12,
      "outputs": [
        {
          "output_type": "stream",
          "text": [
            "<class 'numpy.ndarray'>\n"
          ],
          "name": "stdout"
        }
      ]
    },
    {
      "cell_type": "markdown",
      "metadata": {
        "id": "dFe6YV6QdBil"
      },
      "source": [
        "Passing only one index to a 2-dimensional array will result in returning the row with the given index as well, providing us with another way to access individual rows."
      ]
    },
    {
      "cell_type": "code",
      "metadata": {
        "colab": {
          "base_uri": "https://localhost:8080/"
        },
        "id": "qg8yaM8odBil",
        "outputId": "f56bed14-be43-4271-e2d5-6f5d0c4edf41"
      },
      "source": [
        "print(A[0])"
      ],
      "execution_count": null,
      "outputs": [
        {
          "output_type": "stream",
          "text": [
            "[1 2]\n"
          ],
          "name": "stdout"
        }
      ]
    },
    {
      "cell_type": "code",
      "metadata": {
        "colab": {
          "base_uri": "https://localhost:8080/"
        },
        "id": "DcUIXARjtVJ0",
        "outputId": "187900b1-c77c-4b21-d7b0-3cf794c351b8"
      },
      "source": [
        "print(B[3])"
      ],
      "execution_count": 13,
      "outputs": [
        {
          "output_type": "stream",
          "text": [
            "[10 11  2]\n"
          ],
          "name": "stdout"
        }
      ]
    },
    {
      "cell_type": "markdown",
      "metadata": {
        "id": "TarYdIMrdBim"
      },
      "source": [
        "Accessing the index of an individual element will return only the element."
      ]
    },
    {
      "cell_type": "code",
      "metadata": {
        "id": "bcqZBZSgdBin",
        "outputId": "baab21d2-7079-480e-87ec-ad323f1d5565"
      },
      "source": [
        "print(A[1, 1])"
      ],
      "execution_count": null,
      "outputs": [
        {
          "output_type": "stream",
          "text": [
            "4\n"
          ],
          "name": "stdout"
        }
      ]
    },
    {
      "cell_type": "code",
      "metadata": {
        "colab": {
          "base_uri": "https://localhost:8080/"
        },
        "id": "tT-cRdq1taBq",
        "outputId": "db8c3b2d-ea6f-4a78-f7de-7eaf21f526e1"
      },
      "source": [
        "print(B[3, 2])"
      ],
      "execution_count": 15,
      "outputs": [
        {
          "output_type": "stream",
          "text": [
            "2\n"
          ],
          "name": "stdout"
        }
      ]
    },
    {
      "cell_type": "markdown",
      "metadata": {
        "id": "Us7xsJnkdBin"
      },
      "source": [
        "#### Array functions\n",
        "\n",
        "Functions built into NumPy can be easily called on arrays. Most functions are applied to an array element-wise (as scalar multiplication is). For example, if we call `log()` on an array, the logarithm will be taken of each element."
      ]
    },
    {
      "cell_type": "code",
      "metadata": {
        "id": "eCcKV8FSdBio",
        "outputId": "bcf6f526-3fae-4663-c81e-431f8bc45f81"
      },
      "source": [
        "print(np.log(returns))"
      ],
      "execution_count": null,
      "outputs": [
        {
          "output_type": "stream",
          "text": [
            "[ 1.25276297  1.60943791  0.69314718  2.07944154  1.43508453]\n"
          ],
          "name": "stdout"
        }
      ]
    },
    {
      "cell_type": "code",
      "metadata": {
        "colab": {
          "base_uri": "https://localhost:8080/"
        },
        "id": "KY6PS0SNtkYu",
        "outputId": "3b3f1f46-8ceb-4167-b99f-87d662fafe27"
      },
      "source": [
        "print(np.log(returns1))"
      ],
      "execution_count": 16,
      "outputs": [
        {
          "output_type": "stream",
          "text": [
            "[1.78842057 0.56531381 0.63127178 1.23547147 1.61143592 1.94591015]\n"
          ],
          "name": "stdout"
        }
      ]
    },
    {
      "cell_type": "markdown",
      "metadata": {
        "id": "fJROR9JvdBio"
      },
      "source": [
        "Some functions return a single value. This is because they treat the array as a collection (similar to a list), performing the designated function. For example, the `mean()` function will do exactly what you expect, calculating the mean of an array."
      ]
    },
    {
      "cell_type": "code",
      "metadata": {
        "id": "iXaTOdNSdBip",
        "outputId": "871ce583-ea19-4c54-f4ad-37e62595ad42"
      },
      "source": [
        "print(np.mean(returns))"
      ],
      "execution_count": null,
      "outputs": [
        {
          "output_type": "stream",
          "text": [
            "4.54\n"
          ],
          "name": "stdout"
        }
      ]
    },
    {
      "cell_type": "code",
      "metadata": {
        "colab": {
          "base_uri": "https://localhost:8080/"
        },
        "id": "pDEZJYiDtmTZ",
        "outputId": "f3ac45ad-198a-416c-edd1-f572b692b2d7"
      },
      "source": [
        "print(np.mean(returns1))"
      ],
      "execution_count": 17,
      "outputs": [
        {
          "output_type": "stream",
          "text": [
            "4.178333333333334\n"
          ],
          "name": "stdout"
        }
      ]
    },
    {
      "cell_type": "markdown",
      "metadata": {
        "id": "Y3_GlyQNdBip"
      },
      "source": [
        "Or the `max()` function will return the maximum element of an array."
      ]
    },
    {
      "cell_type": "code",
      "metadata": {
        "colab": {
          "base_uri": "https://localhost:8080/"
        },
        "id": "FGwfQSE9dBiq",
        "outputId": "d794a093-43f2-4621-8336-ebc5e954c0f3"
      },
      "source": [
        "print(np.max(returns))"
      ],
      "execution_count": null,
      "outputs": [
        {
          "output_type": "stream",
          "text": [
            "9.2\n"
          ],
          "name": "stdout"
        }
      ]
    },
    {
      "cell_type": "code",
      "metadata": {
        "colab": {
          "base_uri": "https://localhost:8080/"
        },
        "id": "IR-jp0Osto_L",
        "outputId": "992364aa-031e-4d8c-a0ce-9ad425625117"
      },
      "source": [
        "print(np.max(returns1))"
      ],
      "execution_count": 18,
      "outputs": [
        {
          "output_type": "stream",
          "text": [
            "7.0\n"
          ],
          "name": "stdout"
        }
      ]
    },
    {
      "cell_type": "markdown",
      "metadata": {
        "id": "EU7rzmhLdBiq"
      },
      "source": [
        "For further reading on the universal functions in NumPy, check out the [documentation](https://docs.scipy.org/doc/numpy/user/quickstart.html#universal-functions)."
      ]
    },
    {
      "cell_type": "markdown",
      "metadata": {
        "id": "i2O-jg7GdBir"
      },
      "source": [
        "### Return to the returns\n",
        "\n",
        "Now let's modify our returns array with scalar values. If we add a scalar value to an array it will be added to every element of the array. If we multiply an array by a scalar value it will be multiplied against every element of the array. If we do both, both will happen!"
      ]
    },
    {
      "cell_type": "code",
      "metadata": {
        "scrolled": false,
        "colab": {
          "base_uri": "https://localhost:8080/"
        },
        "id": "dhbqMn9RdBir",
        "outputId": "1af3448c-fed6-4310-c6e8-1caa7a80fd8b"
      },
      "source": [
        "returns*3 + 6"
      ],
      "execution_count": 54,
      "outputs": [
        {
          "output_type": "execute_result",
          "data": {
            "text/plain": [
              "array([20.4, 17.1, 18. , 33.6, 21.9])"
            ]
          },
          "metadata": {
            "tags": []
          },
          "execution_count": 54
        }
      ]
    },
    {
      "cell_type": "code",
      "metadata": {
        "colab": {
          "base_uri": "https://localhost:8080/"
        },
        "id": "knCYAMWWtr4v",
        "outputId": "801d195c-1833-4995-edf3-bcbe95a0beac"
      },
      "source": [
        "returns1*6 + 9"
      ],
      "execution_count": 19,
      "outputs": [
        {
          "output_type": "execute_result",
          "data": {
            "text/plain": [
              "array([44.88, 19.56, 20.28, 29.64, 39.06, 51.  ])"
            ]
          },
          "metadata": {
            "tags": []
          },
          "execution_count": 19
        }
      ]
    },
    {
      "cell_type": "markdown",
      "metadata": {
        "id": "iTvgUvSUdBis"
      },
      "source": [
        "NumPy also has functions specifically built to operate on arrays. Let's take the mean and standard deviation of this group of returns."
      ]
    },
    {
      "cell_type": "code",
      "metadata": {
        "colab": {
          "base_uri": "https://localhost:8080/"
        },
        "id": "MRoegtcudBis",
        "outputId": "84577a3a-4c78-4c5a-f6f6-4ab90c1fd8b2"
      },
      "source": [
        "print(\"Mean: \", np.mean(returns), \"Std Dev: \", np.std(returns))"
      ],
      "execution_count": null,
      "outputs": [
        {
          "output_type": "stream",
          "text": [
            "Mean:  5.4 Std Dev:  1.9829271292712698\n"
          ],
          "name": "stdout"
        }
      ]
    },
    {
      "cell_type": "code",
      "metadata": {
        "colab": {
          "base_uri": "https://localhost:8080/"
        },
        "id": "eet2lpkVtxsh",
        "outputId": "362c0b00-c636-4881-85b1-041e99a1a727"
      },
      "source": [
        "print(\"Mean: \", np.mean(returns1), \"Std Dev: \", np.std(returns1))"
      ],
      "execution_count": 20,
      "outputs": [
        {
          "output_type": "stream",
          "text": [
            "Mean:  4.178333333333334 Std Dev:  1.9822244799439064\n"
          ],
          "name": "stdout"
        }
      ]
    },
    {
      "cell_type": "markdown",
      "metadata": {
        "id": "Qgmkj1-9dBit"
      },
      "source": [
        "Let's simulate a universe of stocks using NumPy's functions. First we need to create the arrays to hold the assets and returns that we will use to build a portfolio. This is because arrays are created with a fixed size. Their dimensions can't be changed without creating a new array."
      ]
    },
    {
      "cell_type": "code",
      "metadata": {
        "collapsed": true,
        "id": "nHyFvJc2dBit"
      },
      "source": [
        "N = 10\n",
        "assets = np.zeros((N, 100))\n",
        "returns = np.zeros((N, 100))"
      ],
      "execution_count": 90,
      "outputs": []
    },
    {
      "cell_type": "code",
      "metadata": {
        "id": "3_qeKKTgt360"
      },
      "source": [
        "N1 = 25\r\n",
        "assets1 = np.zeros((N1, 150))\r\n",
        "returns1 = np.zeros((N1, 150))"
      ],
      "execution_count": 91,
      "outputs": []
    },
    {
      "cell_type": "markdown",
      "metadata": {
        "id": "-24LL8qtdBiu"
      },
      "source": [
        "This function, `zeroes()`, creates a NumPy array with the given dimensions that is entirely filled in with $0$. We can pass a single value or a tuple of as many dimensions as we like. Passing in the tuple `(N, 100)`, will return a two-dimensional array with $N$ rows and $100$ columns. Our result is a $N \\times 100$ array.\n",
        "\n",
        "Now we will simulate a base asset. We want the universe of stocks to be correlated with each other so we will use this initial value to generate the others."
      ]
    },
    {
      "cell_type": "code",
      "metadata": {
        "id": "CeMrJLLsdBiu"
      },
      "source": [
        "R_1 = np.random.normal(1.01, 0.03, 100)\n",
        "returns[0] = R_1\n",
        "assets[0] = np.cumprod(R_1)"
      ],
      "execution_count": 106,
      "outputs": []
    },
    {
      "cell_type": "code",
      "metadata": {
        "id": "L9_Qn9bAu8dw"
      },
      "source": [
        "R_2 = np.random.normal(1.01, 0.03, 150)\r\n",
        "returns1[0] = R_2\r\n",
        "assets1[0] = np.cumprod(R_2)"
      ],
      "execution_count": 107,
      "outputs": []
    },
    {
      "cell_type": "markdown",
      "metadata": {
        "id": "2Amdz2nKdBiv"
      },
      "source": [
        "The `random` module in NumPy is exceedingly useful. It contains methods for sampling from many different probability distributions, some of which are covered in the [random variables lecture](https://www.quantopian.com/lectures/random-variables) in the Quantopian lecture series. In this case we draw $N = 100$ random samples from a normal distribution with mean $1.01$ and standard deviation $0.03$. We treat these as the daily percentage returns of our asset and take the cumulative product of these samples to get the current price.\n",
        "\n",
        "The way we have generated our universe, the the individual $R_i$ vectors are each 1-dimensional arrays and the `returns` and `assets` variables contain 2-dimensional arrays. Above, we set the initial row of both `returns` and `assets` to be the first $R_i$ vector and the cumulative asset price based on those returns, respectively.\n",
        "\n",
        "We will now use this base asset to create a few other random assets that are correlated with it."
      ]
    },
    {
      "cell_type": "code",
      "metadata": {
        "id": "2glYE-pmdBiw"
      },
      "source": [
        "# Generate assets that are correlated with R_1\n",
        "for i in range(1, N):\n",
        "    R_i = R_1 + np.random.normal(0.001, 0.02, 100)\n",
        "    returns[i] = R_i # Set each row of returns equal to the new R_i array\n",
        "    assets[i] = np.cumprod(R_i)\n",
        "    \n",
        "mean_returns = [(np.mean(R) - 1)*100 for R in returns]\n",
        "return_volatilities = [np.std(R) for R in returns]"
      ],
      "execution_count": 108,
      "outputs": []
    },
    {
      "cell_type": "code",
      "metadata": {
        "id": "h9Q8lCyXvHF9"
      },
      "source": [
        "for i in range(1, N1):\r\n",
        "    R_i = R_2 + np.random.normal(0.001, 0.02, 150)\r\n",
        "    returns1[i] = R_i\r\n",
        "    assets1[i] = np.cumprod(R_i)\r\n",
        "    \r\n",
        "mean_returns1 = [(np.mean(R) - 1)*100 for R in returns1]\r\n",
        "return_volatilities1 = [np.std(R) for R in returns1]"
      ],
      "execution_count": 109,
      "outputs": []
    },
    {
      "cell_type": "markdown",
      "metadata": {
        "id": "Ju9b4f3NdBiw"
      },
      "source": [
        "Here we generate the remaining $N - 1$ securities that we want in our universe by adding random noise to $R_1$. This ensures that our $N - 1$ other assets will be correlated with the base asset because they have some underlying information that is shared.\n",
        "\n",
        "Let's plot what the mean return of each asset looks like:"
      ]
    },
    {
      "cell_type": "code",
      "metadata": {
        "scrolled": false,
        "colab": {
          "base_uri": "https://localhost:8080/",
          "height": 295
        },
        "id": "JgxqR5kTdBix",
        "outputId": "606909d1-9f16-4f71-83b8-a1b7d615ba09"
      },
      "source": [
        "plt.bar(np.arange(len(mean_returns)), mean_returns)\n",
        "plt.xlabel('Stock')\n",
        "plt.ylabel('Returns')\n",
        "plt.title('Returns for {0} Random Assets'.format(N));"
      ],
      "execution_count": 58,
      "outputs": [
        {
          "output_type": "display_data",
          "data": {
            "image/png": "[encoded data removed]",
            "text/plain": [
              "<Figure size 432x288 with 1 Axes>"
            ]
          },
          "metadata": {
            "tags": [],
            "needs_background": "light"
          }
        }
      ]
    },
    {
      "cell_type": "code",
      "metadata": {
        "colab": {
          "base_uri": "https://localhost:8080/",
          "height": 295
        },
        "id": "YGtqBUUtvTDB",
        "outputId": "c1622465-761c-4819-883b-5537bfa24407"
      },
      "source": [
        "plt.bar(np.arange(len(mean_returns1)), mean_returns1)\r\n",
        "plt.xlabel('Stock')\r\n",
        "plt.ylabel('Returns')\r\n",
        "plt.title('Returns for {0} Random Assets'.format(N1));"
      ],
      "execution_count": 120,
      "outputs": [
        {
          "output_type": "display_data",
          "data": {
            "image/png": "[encoded data removed]",
            "text/plain": [
              "<Figure size 432x288 with 1 Axes>"
            ]
          },
          "metadata": {
            "tags": [],
            "needs_background": "light"
          }
        }
      ]
    },
    {
      "cell_type": "markdown",
      "metadata": {
        "id": "3LUGkfovdBix"
      },
      "source": [
        "### Calculating Expected Return\n",
        "\n",
        "So we have a universe of stocks. Great! Now let's put them together in a portfolio and calculate its expected return and risk.\n",
        "\n",
        "We will start off by generating $N$ random weights for each asset in our portfolio."
      ]
    },
    {
      "cell_type": "code",
      "metadata": {
        "id": "Ez4m2bmidBiy"
      },
      "source": [
        "weights = np.random.uniform(0, 1, N)\n",
        "weights = weights/np.sum(weights)"
      ],
      "execution_count": 110,
      "outputs": []
    },
    {
      "cell_type": "code",
      "metadata": {
        "id": "oFnjSmAxvg55"
      },
      "source": [
        "weights1 = np.random.uniform(0, 1, N1)\r\n",
        "weights1 = weights1/np.sum(weights1)"
      ],
      "execution_count": 111,
      "outputs": []
    },
    {
      "cell_type": "markdown",
      "metadata": {
        "id": "HQNWGNrzdBiy"
      },
      "source": [
        "We have to rescale the weights so that they all add up to $1$. We do this by scaling the weights vector by the sum total of all the weights. This step ensures that we will be using $100\\%$ of the portfolio's cash.\n",
        "\n",
        "To calculate the mean return of the portfolio, we have to scale each asset's return by its designated weight. We can pull each element of each array and multiply them individually, but it's quicker to use NumPy's linear algebra methods. The function that we want is `dot()`. This will calculate the dot product between two arrays for us. So if $v = \\left[ 1, 2, 3 \\right]$ and $w = \\left[4, 5, 6 \\right]$, then:\n",
        "\n",
        "$$ v \\cdot w = 1 \\times 4 + 2 \\times 5 + 3 \\times 6 $$\n",
        "\n",
        "For a one-dimensional vector, the dot product will multiply each element pointwise and add all the products together! In our case, we have a vector of weights, $\\omega = \\left[ \\omega_1, \\omega_2, \\dots \\omega_N\\right]$ and a vector of returns, $\\mu = \\left[ \\mu_1, \\mu_2, \\dots, \\mu_N\\right]$. If we take the dot product of these two we will get:\n",
        "\n",
        "$$ \\omega \\cdot \\mu = \\omega_1\\mu_1 + \\omega_2\\mu_2 + \\dots + \\omega_N\\mu_N = \\mu_P $$\n",
        "\n",
        "This yields the sum of all the asset returns scaled by their respective weights. This the the portfolio's overall expected return!"
      ]
    },
    {
      "cell_type": "code",
      "metadata": {
        "colab": {
          "base_uri": "https://localhost:8080/"
        },
        "id": "JGLcrNhKdBiz",
        "outputId": "a0b48b76-8d52-4853-dfef-fff287f5da25"
      },
      "source": [
        "p_returns = np.dot(weights, mean_returns)\n",
        "print(\"Expected return of the portfolio: \", p_returns)"
      ],
      "execution_count": 112,
      "outputs": [
        {
          "output_type": "stream",
          "text": [
            "Expected return of the portfolio:  1.5378586365901115\n"
          ],
          "name": "stdout"
        }
      ]
    },
    {
      "cell_type": "code",
      "metadata": {
        "colab": {
          "base_uri": "https://localhost:8080/"
        },
        "id": "3oENRakcvlPM",
        "outputId": "93e992db-e954-445f-a52a-9fd0f4cac643"
      },
      "source": [
        "p_returns1 = np.dot(weights1, mean_returns1)\r\n",
        "print(\"Expected return of the portfolio: \", p_returns1)"
      ],
      "execution_count": 113,
      "outputs": [
        {
          "output_type": "stream",
          "text": [
            "Expected return of the portfolio:  1.1629598171280284\n"
          ],
          "name": "stdout"
        }
      ]
    },
    {
      "cell_type": "markdown",
      "metadata": {
        "id": "pPL9Qkw2dBi1"
      },
      "source": [
        "Calculating the mean return is fairly intuitive and does not require too much explanation of linear algebra. However, calculating the variance of our portfolio requires a bit more background."
      ]
    },
    {
      "cell_type": "markdown",
      "metadata": {
        "id": "Xj91PoZWdBi2"
      },
      "source": [
        "#### Beware of NaN values\n",
        "\n",
        "Most of the time, all of these calculations will work without an issue. However, when working with real data we run the risk of having `nan` values in our arrays. This is NumPy's way of saying that the data there is missing or doesn't exist. These `nan` values can lead to errors in mathematical calculations so it is important to be aware of whether your array contains `nan` values and to know how to drop them."
      ]
    },
    {
      "cell_type": "code",
      "metadata": {
        "colab": {
          "base_uri": "https://localhost:8080/"
        },
        "id": "qhcXSkR-dBi2",
        "outputId": "9a8ea059-7898-449f-fd11-a6e29714dd7e"
      },
      "source": [
        "v = np.array([1, 2, np.nan, 4, 5])\n",
        "print(v)"
      ],
      "execution_count": 63,
      "outputs": [
        {
          "output_type": "stream",
          "text": [
            "[ 1.  2. nan  4.  5.]\n"
          ],
          "name": "stdout"
        }
      ]
    },
    {
      "cell_type": "code",
      "metadata": {
        "colab": {
          "base_uri": "https://localhost:8080/"
        },
        "id": "CKCwLiazvqYY",
        "outputId": "1b43ec1a-6a62-4ec7-c383-e352c8347407"
      },
      "source": [
        "z = np.array([10, np.nan, np.nan, 2.59, np.nan, 4.44, 6, 7, 5])\r\n",
        "print(z)"
      ],
      "execution_count": 28,
      "outputs": [
        {
          "output_type": "stream",
          "text": [
            "[10.     nan   nan  2.59   nan  4.44  6.    7.    5.  ]\n"
          ],
          "name": "stdout"
        }
      ]
    },
    {
      "cell_type": "markdown",
      "metadata": {
        "id": "m3dwngOYdBi4"
      },
      "source": [
        "Let's see what happens when we try to take the mean of this array."
      ]
    },
    {
      "cell_type": "code",
      "metadata": {
        "colab": {
          "base_uri": "https://localhost:8080/"
        },
        "id": "cODjPyO4dBi4",
        "outputId": "a3dd2884-36be-4139-ad01-750a9f69be83"
      },
      "source": [
        "print(np.mean(v))"
      ],
      "execution_count": null,
      "outputs": [
        {
          "output_type": "stream",
          "text": [
            "nan\n"
          ],
          "name": "stdout"
        }
      ]
    },
    {
      "cell_type": "code",
      "metadata": {
        "colab": {
          "base_uri": "https://localhost:8080/"
        },
        "id": "2C8guRHWv1p6",
        "outputId": "4fd305fa-5da8-468f-cd3a-27c49b55336b"
      },
      "source": [
        "print(np.mean(z))"
      ],
      "execution_count": 29,
      "outputs": [
        {
          "output_type": "stream",
          "text": [
            "nan\n"
          ],
          "name": "stdout"
        }
      ]
    },
    {
      "cell_type": "markdown",
      "metadata": {
        "id": "U3nu1ar6dBi5"
      },
      "source": [
        "Clearly, `nan` values can have a large impact on our calculations. Fortunately, we can check for `nan` values with the `isnan()` function."
      ]
    },
    {
      "cell_type": "code",
      "metadata": {
        "colab": {
          "base_uri": "https://localhost:8080/"
        },
        "id": "_iBV5Ux2dBi6",
        "outputId": "e8459773-8d4d-4014-dd56-59e9d7ae2355"
      },
      "source": [
        "np.isnan(v)"
      ],
      "execution_count": 64,
      "outputs": [
        {
          "output_type": "execute_result",
          "data": {
            "text/plain": [
              "array([False, False,  True, False, False])"
            ]
          },
          "metadata": {
            "tags": []
          },
          "execution_count": 64
        }
      ]
    },
    {
      "cell_type": "code",
      "metadata": {
        "colab": {
          "base_uri": "https://localhost:8080/"
        },
        "id": "IRF7nOsev3_L",
        "outputId": "cdb6e066-7710-4760-80ed-03152b4a58a4"
      },
      "source": [
        "np.isnan(z)"
      ],
      "execution_count": 30,
      "outputs": [
        {
          "output_type": "execute_result",
          "data": {
            "text/plain": [
              "array([False,  True,  True, False,  True, False, False, False, False])"
            ]
          },
          "metadata": {
            "tags": []
          },
          "execution_count": 30
        }
      ]
    },
    {
      "cell_type": "markdown",
      "metadata": {
        "id": "SzKYhVuqdBi7"
      },
      "source": [
        "Calling `isnan()` on an array will call the function on each value of the array, returning a value of `True` if the element is `nan` and `False` if the element is valid. Now, knowing whether your array contains `nan` values is all well and good, but how do we remove `nan`s? Handily enough, NumPy arrays can be indexed by boolean values (`True` or `False`). If we use a boolean array to index an array, we will remove all values of the array that register as `False` under the condition. We use the `isnan()` function in create a boolean array, assigning a `True` value to everything that is *not* `nan` and a `False` to the `nan`s and we use that to index the same array."
      ]
    },
    {
      "cell_type": "code",
      "metadata": {
        "colab": {
          "base_uri": "https://localhost:8080/"
        },
        "id": "376-LvXtdBi7",
        "outputId": "3f96cb48-8a17-43ae-9106-9fd1fd7a3061"
      },
      "source": [
        "ix = ~np.isnan(v) # the ~ indicates a logical not, inverting the bools\n",
        "print(v[ix]) # We can also just write v = v[~np.isnan(v)]"
      ],
      "execution_count": 65,
      "outputs": [
        {
          "output_type": "stream",
          "text": [
            "[1. 2. 4. 5.]\n"
          ],
          "name": "stdout"
        }
      ]
    },
    {
      "cell_type": "code",
      "metadata": {
        "colab": {
          "base_uri": "https://localhost:8080/"
        },
        "id": "FEKiACEFv6yQ",
        "outputId": "417d0708-677a-4276-f261-5303a38bb30f"
      },
      "source": [
        "jx = ~np.isnan(z)\r\n",
        "print(z[jx])"
      ],
      "execution_count": 31,
      "outputs": [
        {
          "output_type": "stream",
          "text": [
            "[10.    2.59  4.44  6.    7.    5.  ]\n"
          ],
          "name": "stdout"
        }
      ]
    },
    {
      "cell_type": "code",
      "metadata": {
        "colab": {
          "base_uri": "https://localhost:8080/"
        },
        "id": "DylZE-iedBi8",
        "outputId": "6a4b9c29-0b41-4241-fd4c-90c53c150b88"
      },
      "source": [
        "print(np.mean(v[ix]))"
      ],
      "execution_count": null,
      "outputs": [
        {
          "output_type": "stream",
          "text": [
            "3.0\n"
          ],
          "name": "stdout"
        }
      ]
    },
    {
      "cell_type": "code",
      "metadata": {
        "colab": {
          "base_uri": "https://localhost:8080/"
        },
        "id": "6i1RT1BpwA8P",
        "outputId": "988dcb4d-b4a7-47f8-f6cf-c3636cfeabe2"
      },
      "source": [
        "print(np.mean(z[jx]))"
      ],
      "execution_count": 32,
      "outputs": [
        {
          "output_type": "stream",
          "text": [
            "5.838333333333334\n"
          ],
          "name": "stdout"
        }
      ]
    },
    {
      "cell_type": "markdown",
      "metadata": {
        "id": "FWHG0l7jdBi8"
      },
      "source": [
        "There are a few shortcuts to this process in the form of NumPy functions specifically built to handle them, such as `nanmean()`."
      ]
    },
    {
      "cell_type": "code",
      "metadata": {
        "colab": {
          "base_uri": "https://localhost:8080/"
        },
        "id": "J2QZgbhJdBi8",
        "outputId": "1bb4f263-3dd0-402a-cd1d-e31e2c6532d9"
      },
      "source": [
        "print(np.nanmean(v))"
      ],
      "execution_count": null,
      "outputs": [
        {
          "output_type": "stream",
          "text": [
            "3.0\n"
          ],
          "name": "stdout"
        }
      ]
    },
    {
      "cell_type": "code",
      "metadata": {
        "colab": {
          "base_uri": "https://localhost:8080/"
        },
        "id": "dxsOfIflwDuz",
        "outputId": "ef77457b-aca2-4f2b-e16f-04452af67b45"
      },
      "source": [
        "print(np.nanmean(z))"
      ],
      "execution_count": 33,
      "outputs": [
        {
          "output_type": "stream",
          "text": [
            "5.838333333333334\n"
          ],
          "name": "stdout"
        }
      ]
    },
    {
      "cell_type": "markdown",
      "metadata": {
        "id": "liyCIVJUdBi9"
      },
      "source": [
        "The `nanmean()` function simply calculates the mean of the array as if there were no `nan` values at all! There are a few more of these functions, so feel free to read more about them in the [documentation](https://docs.scipy.org/doc/numpy/user/index.html). These indeterminate values are more an issue with data than linear algebra itself so it is helpful that there are ways to handle them."
      ]
    },
    {
      "cell_type": "markdown",
      "metadata": {
        "id": "3uKJfzBAdBi9"
      },
      "source": [
        "### Conclusion\n",
        "\n",
        "Linear algebra is pervasive in finance and in general. For example, the calculation of *optimal* weights according to modern portfolio theory is done using linear algebra techniques. The arrays and functions in NumPy allow us to handle these calculations in an intuitive way. For a quick intro to linear algebra and how to use NumPy to do more significant matrix calculations, proceed to the next section."
      ]
    },
    {
      "cell_type": "markdown",
      "metadata": {
        "id": "V-cXhYlDdBi9"
      },
      "source": [
        "## A brief foray into linear algebra\n",
        "\n",
        "Let's start with a basic overview of some linear algebra. Linear algebra comes down to the multiplication and composition of scalar and matrix values. A scalar value is just a real number that we multiply against an array. When we scale a matrix or array using a scalar, we multiply each individual element of that matrix or array by the scalar.\n",
        "\n",
        "A matrix is a collection of values, typically represented by an $m \\times n$ grid, where $m$ is the number of rows and $n$ is the number of columns. The edge lengths $m$ and $n$ do not necessarily have to be different. If we have $m = n$, we call this a square matrix. A particularly interesting case of a matrix is when $m = 1$ or $n = 1$. In this case we have a special case of a matrix that we call a vector. While there is a matrix object in NumPy we will be doing everything using NumPy arrays because they can have dimensions greater than $2$. For the purpose of this section, we will be using matrix and array interchangeably.\n",
        "\n",
        "We can express the matrix equation as:\n",
        "\n",
        "$$ y = A\\cdot x $$\n",
        "\n",
        "Where $A$ is an $m \\times n$ matrix, $y$ is a $m \\times 1$ vector, and $x$ is a $n \\times 1$ vector. On the right-hand side of the equation we are multiplying a matrix by a vector. This requires a little bit more clarification, lest we think that we can go about multiplying any matrices by any other matrices.\n",
        "\n",
        "#### Matrix multiplication\n",
        "\n",
        "With matrix multiplication, the order in which the matrices are multiplied matters. Multiplying a matrix on the left side by another matrix may be just fine, but multiplying on the right may be undefined."
      ]
    },
    {
      "cell_type": "code",
      "metadata": {
        "id": "7k0IoSkVwOrm"
      },
      "source": [
        "A = np.array([\r\n",
        "        [1, 2, 3, 12, 6],\r\n",
        "        [4, 5, 6, 15, 20],\r\n",
        "        [7, 8, 9, 10, 10]        \r\n",
        "    ])\r\n",
        "B = np.array([\r\n",
        "        [4, 4, 2],\r\n",
        "        [2, 3, 1],\r\n",
        "        [6, 5, 8],\r\n",
        "        [9, 9, 9]\r\n",
        "    ])"
      ],
      "execution_count": 69,
      "outputs": []
    },
    {
      "cell_type": "code",
      "metadata": {
        "collapsed": true,
        "id": "Z4qibxl-dBi9"
      },
      "source": [
        "C = np.array([\n",
        "        [4, 6, 7, 15, 3],\n",
        "        [3, 8, 9, 18, 22],\n",
        "        [5, 1, 2, 11, 9]        \n",
        "    ])\n",
        "D = np.array([\n",
        "        [5, 3, 1],\n",
        "        [7, 8, 2],\n",
        "        [6, 9, 3],\n",
        "        [5, 6, 4]\n",
        "    ])"
      ],
      "execution_count": 70,
      "outputs": []
    },
    {
      "cell_type": "markdown",
      "metadata": {
        "id": "FBPs3TRldBi9"
      },
      "source": [
        "Notice that the above-defined matrices, $A$ and $B$, have different dimensions. $A$ is $3 \\times 5$ and $B$ is $4 \\times 3$. The general rule of what can and cannot be multiplied in which order is based on the dimensions of the matrices. Specifically, the number of columns in the matrix on the left must be equal to the number of rows in the matrix on the right. In super informal terms, let's say that we have an $m \\times n$ matrix and a $p \\times q$ matrix. If we multiply the first by the second on the right, we get the following:\n",
        "\n",
        "$$ (m \\times n) \\cdot (p \\times q) = (m \\times q) $$\n",
        "\n",
        "So the resultant product has the same number of rows as the left matrix and the same number of columns as the right matrix. This limitation of matrix multiplication with regards to dimensions is important to keep track of when writing code. To demonstrate this, we use the `dot()` function to multiply our matrices below:"
      ]
    },
    {
      "cell_type": "code",
      "metadata": {
        "colab": {
          "base_uri": "https://localhost:8080/",
          "height": 197
        },
        "id": "u5zsz1AUdBi-",
        "outputId": "b1811ccf-b3d8-4bcb-f436-72c2c4260149"
      },
      "source": [
        "print(np.dot(A, B))"
      ],
      "execution_count": 37,
      "outputs": [
        {
          "output_type": "error",
          "ename": "ValueError",
          "evalue": "ignored",
          "traceback": [
            "\u001b[0;31m---------------------------------------------------------------------------\u001b[0m",
            "\u001b[0;31mValueError\u001b[0m                                Traceback (most recent call last)",
            "\u001b[0;32m<ipython-input-37-c4010e250c2c>\u001b[0m in \u001b[0;36m<module>\u001b[0;34m()\u001b[0m\n\u001b[0;32m----> 1\u001b[0;31m \u001b[0mprint\u001b[0m\u001b[0;34m(\u001b[0m\u001b[0mnp\u001b[0m\u001b[0;34m.\u001b[0m\u001b[0mdot\u001b[0m\u001b[0;34m(\u001b[0m\u001b[0mA\u001b[0m\u001b[0;34m,\u001b[0m \u001b[0mB\u001b[0m\u001b[0;34m)\u001b[0m\u001b[0;34m)\u001b[0m\u001b[0;34m\u001b[0m\u001b[0;34m\u001b[0m\u001b[0m\n\u001b[0m",
            "\u001b[0;32m<__array_function__ internals>\u001b[0m in \u001b[0;36mdot\u001b[0;34m(*args, **kwargs)\u001b[0m\n",
            "\u001b[0;31mValueError\u001b[0m: shapes (3,5) and (4,3) not aligned: 5 (dim 1) != 4 (dim 0)"
          ]
        }
      ]
    },
    {
      "cell_type": "markdown",
      "metadata": {
        "id": "aRFhKz6AdBi-"
      },
      "source": [
        "These results make sense in accordance with our rule. Multiplying a $3 \\times 5$ matrix on the right by a $4 \\times 3$ matrix results in an error while multiplying a $4 \\times 3$ matrix on the right by a $3 \\times 5$ matrix results in a $4 \\times 5$ matrix."
      ]
    },
    {
      "cell_type": "code",
      "metadata": {
        "colab": {
          "base_uri": "https://localhost:8080/"
        },
        "id": "5QZ1sR3ldBi-",
        "outputId": "b9a9a8ac-cee5-4370-cb87-82675b935370"
      },
      "source": [
        "print(np.dot(B, A))"
      ],
      "execution_count": 39,
      "outputs": [
        {
          "output_type": "stream",
          "text": [
            "[[ 34  44  54 128 124]\n",
            " [ 21  27  33  79  82]\n",
            " [ 82 101 120 227 216]\n",
            " [108 135 162 333 324]]\n"
          ],
          "name": "stdout"
        }
      ]
    },
    {
      "cell_type": "code",
      "metadata": {
        "colab": {
          "base_uri": "https://localhost:8080/",
          "height": 197
        },
        "id": "2FeJrfWowhmM",
        "outputId": "44b8eb57-24ac-4fd4-a404-b978b7e01aea"
      },
      "source": [
        "print(np.dot(C, D))"
      ],
      "execution_count": 40,
      "outputs": [
        {
          "output_type": "error",
          "ename": "ValueError",
          "evalue": "ignored",
          "traceback": [
            "\u001b[0;31m---------------------------------------------------------------------------\u001b[0m",
            "\u001b[0;31mValueError\u001b[0m                                Traceback (most recent call last)",
            "\u001b[0;32m<ipython-input-40-a13eddef0fab>\u001b[0m in \u001b[0;36m<module>\u001b[0;34m()\u001b[0m\n\u001b[0;32m----> 1\u001b[0;31m \u001b[0mprint\u001b[0m\u001b[0;34m(\u001b[0m\u001b[0mnp\u001b[0m\u001b[0;34m.\u001b[0m\u001b[0mdot\u001b[0m\u001b[0;34m(\u001b[0m\u001b[0mC\u001b[0m\u001b[0;34m,\u001b[0m \u001b[0mD\u001b[0m\u001b[0;34m)\u001b[0m\u001b[0;34m)\u001b[0m\u001b[0;34m\u001b[0m\u001b[0;34m\u001b[0m\u001b[0m\n\u001b[0m",
            "\u001b[0;32m<__array_function__ internals>\u001b[0m in \u001b[0;36mdot\u001b[0;34m(*args, **kwargs)\u001b[0m\n",
            "\u001b[0;31mValueError\u001b[0m: shapes (3,5) and (4,3) not aligned: 5 (dim 1) != 4 (dim 0)"
          ]
        }
      ]
    },
    {
      "cell_type": "code",
      "metadata": {
        "colab": {
          "base_uri": "https://localhost:8080/"
        },
        "id": "5-evMTjhwk5Y",
        "outputId": "0baaab91-4cb3-4e1a-f4b9-294555df30a7"
      },
      "source": [
        "print(np.dot(D, C))"
      ],
      "execution_count": 41,
      "outputs": [
        {
          "output_type": "stream",
          "text": [
            "[[ 34  55  64 140  90]\n",
            " [ 62 108 125 271 215]\n",
            " [ 66 111 129 285 243]\n",
            " [ 58  82  97 227 183]]\n"
          ],
          "name": "stdout"
        }
      ]
    },
    {
      "cell_type": "markdown",
      "metadata": {
        "id": "nou7iigVdBi-"
      },
      "source": [
        "### Portfolio Variance\n",
        "\n",
        "Let's return to our portfolio example from before. We calculated the expected return of the portfolio, but how do we calculate the variance? We start by trying to evaluate the portfolio as a sum of each individual asset, scaled by it's weight.\n",
        "\n",
        "$$ VAR[P] = VAR[\\omega_1 S_1 + \\omega_2 S_2 + \\cdots + \\omega_N S_N] $$\n",
        "\n",
        "Where $S_0, \\cdots, S_N$ are the assets contained within our universe. If all of our assets were independent of each other, we could simply evaluate this as\n",
        "\n",
        "$$ VAR[P] = VAR[\\omega_1 S_1] + VAR[\\omega_2 S_2] + \\cdots + VAR[\\omega_N S_N] = \\omega_1^2\\sigma_1^2 + \\omega_2^2\\sigma_2^2 + \\cdots + \\omega_N^2\\sigma_N^2 $$\n",
        "\n",
        "However, all of our assets depend on each other by their construction. They are all in some way related to our base asset and therefore each other. We thus have to calculate the variance of the portfolio by including the individual pairwise covariances of each asset. Our formula for the variance of the portfolio:\n",
        "\n",
        "$$ VAR[P] = \\sigma_P^2 = \\sum_i \\omega_i^2\\sigma_i^2 + \\sum_i\\sum_{i\\neq j} \\omega_i\\omega_j\\sigma_i\\sigma_j\\rho_{i, j}, \\ i, j \\in \\lbrace 1, 2, \\cdots, N \\rbrace $$\n",
        "\n",
        "Where $\\rho_{i,j}$ is the correlation between $S_i$ and $S_j$, $\\rho_{i, j} = \\frac{COV[S_i, S_j]}{\\sigma_i\\sigma_j}$. This seems exceedingly complicated, but we can easily handle all of this using NumPy arrays. First, we calculate the covariance matrix that relates all the individual stocks in our universe."
      ]
    },
    {
      "cell_type": "code",
      "metadata": {
        "colab": {
          "base_uri": "https://localhost:8080/"
        },
        "id": "IyF4nox8dBi_",
        "outputId": "9b3b108b-fa13-4e01-99fa-b699a792906a"
      },
      "source": [
        "cov_mat = np.cov(returns)\n",
        "print(cov_mat)"
      ],
      "execution_count": 66,
      "outputs": [
        {
          "output_type": "stream",
          "text": [
            "[[0.00093141 0.00088906 0.00086628 0.00082755 0.0009396  0.00094746\n",
            "  0.00102362 0.0008448  0.00099552 0.00105761]\n",
            " [0.00088906 0.00128066 0.00083074 0.00083838 0.00094108 0.00095328\n",
            "  0.00091069 0.00071304 0.00103943 0.00097239]\n",
            " [0.00086628 0.00083074 0.00126645 0.00073112 0.00084623 0.00088825\n",
            "  0.0009526  0.00082682 0.00092832 0.00095189]\n",
            " [0.00082755 0.00083838 0.00073112 0.00121171 0.00085746 0.00088838\n",
            "  0.0008782  0.00071982 0.00090173 0.00097364]\n",
            " [0.0009396  0.00094108 0.00084623 0.00085746 0.00134036 0.00099593\n",
            "  0.00101517 0.00081144 0.00097538 0.00105909]\n",
            " [0.00094746 0.00095328 0.00088825 0.00088838 0.00099593 0.00125334\n",
            "  0.00107809 0.00083515 0.00100913 0.00107256]\n",
            " [0.00102362 0.00091069 0.0009526  0.0008782  0.00101517 0.00107809\n",
            "  0.00159524 0.0009053  0.00115061 0.00114703]\n",
            " [0.0008448  0.00071304 0.00082682 0.00071982 0.00081144 0.00083515\n",
            "  0.0009053  0.00109666 0.00090475 0.0010009 ]\n",
            " [0.00099552 0.00103943 0.00092832 0.00090173 0.00097538 0.00100913\n",
            "  0.00115061 0.00090475 0.00154553 0.00113573]\n",
            " [0.00105761 0.00097239 0.00095189 0.00097364 0.00105909 0.00107256\n",
            "  0.00114703 0.0010009  0.00113573 0.00155431]]\n"
          ],
          "name": "stdout"
        }
      ]
    },
    {
      "cell_type": "code",
      "metadata": {
        "colab": {
          "base_uri": "https://localhost:8080/"
        },
        "id": "NODC8EXwxXGq",
        "outputId": "c8cee249-a3b6-4501-c2f9-3f0f03c09b35"
      },
      "source": [
        "cov_mat1 = np.cov(returns1)\r\n",
        "print(cov_mat1)"
      ],
      "execution_count": 67,
      "outputs": [
        {
          "output_type": "stream",
          "text": [
            "[[0.00078172 0.00081404 0.00082897 0.000769   0.00085607 0.00079955\n",
            "  0.00071206 0.00077744 0.00085268 0.00078597 0.00075604 0.00079979\n",
            "  0.00084076 0.00080507 0.00082361 0.00082433 0.00074054 0.00078079\n",
            "  0.00069423 0.00076365 0.0007393  0.00089404 0.0007717  0.00081179\n",
            "  0.00080609]\n",
            " [0.00081404 0.00123315 0.0008496  0.00079308 0.00089323 0.00085742\n",
            "  0.00068998 0.00077783 0.00092606 0.00080373 0.00076576 0.00087666\n",
            "  0.00082131 0.00080416 0.00080217 0.0008418  0.00077832 0.00081757\n",
            "  0.00073737 0.00078414 0.0007314  0.00092704 0.00077795 0.00082205\n",
            "  0.00081454]\n",
            " [0.00082897 0.0008496  0.00128093 0.00082058 0.00086407 0.00091402\n",
            "  0.00079277 0.00077111 0.00088653 0.0008466  0.00077222 0.00087209\n",
            "  0.00087168 0.00082736 0.00091324 0.0008913  0.00078189 0.00081853\n",
            "  0.00074625 0.00080569 0.00074286 0.00093738 0.00081312 0.00083753\n",
            "  0.00086731]\n",
            " [0.000769   0.00079308 0.00082058 0.0010899  0.00083526 0.0008159\n",
            "  0.00067874 0.00074712 0.00085635 0.0007883  0.00070933 0.00083704\n",
            "  0.00080863 0.00078679 0.00080866 0.00081837 0.00070867 0.0007797\n",
            "  0.00061291 0.00072649 0.0007106  0.00086575 0.00077198 0.00079977\n",
            "  0.00084531]\n",
            " [0.00085607 0.00089323 0.00086407 0.00083526 0.00137089 0.00084783\n",
            "  0.00075776 0.00091493 0.00092538 0.0009015  0.00085448 0.00090149\n",
            "  0.00086594 0.00087662 0.0009139  0.0008516  0.00081194 0.00084603\n",
            "  0.00068771 0.00089951 0.0007431  0.00096836 0.0008016  0.00088093\n",
            "  0.00087671]\n",
            " [0.00079955 0.00085742 0.00091402 0.0008159  0.00084783 0.00121099\n",
            "  0.00073749 0.00082535 0.0008623  0.00079395 0.00074157 0.00085595\n",
            "  0.00080886 0.00077259 0.00084526 0.00082597 0.00072107 0.00081192\n",
            "  0.00070769 0.00082248 0.00081525 0.00094282 0.0007911  0.0008346\n",
            "  0.00087905]\n",
            " [0.00071206 0.00068998 0.00079277 0.00067874 0.00075776 0.00073749\n",
            "  0.00105982 0.00067603 0.00072762 0.00073776 0.00067045 0.00072718\n",
            "  0.0007826  0.00071358 0.00078443 0.00079877 0.00066755 0.00075692\n",
            "  0.00061899 0.0006589  0.0006583  0.00085841 0.0006775  0.00070188\n",
            "  0.00072558]\n",
            " [0.00077744 0.00077783 0.00077111 0.00074712 0.00091493 0.00082535\n",
            "  0.00067603 0.00115021 0.00086896 0.00082019 0.00075608 0.00076847\n",
            "  0.00082083 0.00080989 0.00075343 0.00081169 0.00072071 0.00082632\n",
            "  0.00062151 0.00077852 0.00075072 0.0008507  0.0007725  0.00079229\n",
            "  0.00083419]\n",
            " [0.00085268 0.00092606 0.00088653 0.00085635 0.00092538 0.0008623\n",
            "  0.00072762 0.00086896 0.0013138  0.00081323 0.00085172 0.00090614\n",
            "  0.00093034 0.00083485 0.00091059 0.00088616 0.00082397 0.00083763\n",
            "  0.00078078 0.0008304  0.00081702 0.00096156 0.00084022 0.00089125\n",
            "  0.00093548]\n",
            " [0.00078597 0.00080373 0.0008466  0.0007883  0.0009015  0.00079395\n",
            "  0.00073776 0.00082019 0.00081323 0.00118156 0.0007711  0.00078134\n",
            "  0.0008786  0.00080611 0.00082509 0.00083821 0.00076213 0.00080218\n",
            "  0.00065596 0.00075134 0.00074352 0.00089864 0.00072772 0.00085271\n",
            "  0.00079433]\n",
            " [0.00075604 0.00076576 0.00077222 0.00070933 0.00085448 0.00074157\n",
            "  0.00067045 0.00075608 0.00085172 0.0007711  0.0011218  0.00076847\n",
            "  0.00080528 0.00075645 0.0008204  0.0007846  0.00075513 0.00077042\n",
            "  0.00065212 0.00071792 0.00069372 0.00084646 0.00075547 0.00079486\n",
            "  0.00075565]\n",
            " [0.00079979 0.00087666 0.00087209 0.00083704 0.00090149 0.00085595\n",
            "  0.00072718 0.00076847 0.00090614 0.00078134 0.00076847 0.00120035\n",
            "  0.00086455 0.00078207 0.00081874 0.00083641 0.00069447 0.00076057\n",
            "  0.00073453 0.0007354  0.00080107 0.00090888 0.00075769 0.000883\n",
            "  0.00085557]\n",
            " [0.00084076 0.00082131 0.00087168 0.00080863 0.00086594 0.00080886\n",
            "  0.0007826  0.00082083 0.00093034 0.0008786  0.00080528 0.00086455\n",
            "  0.00126491 0.00088309 0.00086519 0.00087543 0.00083827 0.00084822\n",
            "  0.00073404 0.00082556 0.00081585 0.00093873 0.00077696 0.00085813\n",
            "  0.00080346]\n",
            " [0.00080507 0.00080416 0.00082736 0.00078679 0.00087662 0.00077259\n",
            "  0.00071358 0.00080989 0.00083485 0.00080611 0.00075645 0.00078207\n",
            "  0.00088309 0.00124282 0.00080561 0.00084155 0.00078715 0.00084939\n",
            "  0.00075548 0.00076925 0.00073999 0.00088774 0.0007679  0.00082778\n",
            "  0.00079301]\n",
            " [0.00082361 0.00080217 0.00091324 0.00080866 0.0009139  0.00084526\n",
            "  0.00078443 0.00075343 0.00091059 0.00082509 0.0008204  0.00081874\n",
            "  0.00086519 0.00080561 0.00125092 0.00086579 0.000751   0.00081157\n",
            "  0.00073444 0.00078862 0.00076191 0.00093081 0.0008251  0.00085549\n",
            "  0.00083856]\n",
            " [0.00082433 0.0008418  0.0008913  0.00081837 0.0008516  0.00082597\n",
            "  0.00079877 0.00081169 0.00088616 0.00083821 0.0007846  0.00083641\n",
            "  0.00087543 0.00084155 0.00086579 0.00123073 0.00078601 0.0008236\n",
            "  0.00074806 0.00077863 0.00077177 0.00095602 0.00081404 0.00083273\n",
            "  0.00090541]\n",
            " [0.00074054 0.00077832 0.00078189 0.00070867 0.00081194 0.00072107\n",
            "  0.00066755 0.00072071 0.00082397 0.00076213 0.00075513 0.00069447\n",
            "  0.00083827 0.00078715 0.000751   0.00078601 0.00112633 0.00074693\n",
            "  0.00065034 0.00065287 0.00072821 0.00084586 0.00067323 0.00075491\n",
            "  0.00074363]\n",
            " [0.00078079 0.00081757 0.00081853 0.0007797  0.00084603 0.00081192\n",
            "  0.00075692 0.00082632 0.00083763 0.00080218 0.00077042 0.00076057\n",
            "  0.00084822 0.00084939 0.00081157 0.0008236  0.00074693 0.0010937\n",
            "  0.00068865 0.00074857 0.00073311 0.00091179 0.00078955 0.00078604\n",
            "  0.00078015]\n",
            " [0.00069423 0.00073737 0.00074625 0.00061291 0.00068771 0.00070769\n",
            "  0.00061899 0.00062151 0.00078078 0.00065596 0.00065212 0.00073453\n",
            "  0.00073404 0.00075548 0.00073444 0.00074806 0.00065034 0.00068865\n",
            "  0.00096183 0.00063516 0.00070552 0.00079661 0.00069894 0.00071095\n",
            "  0.00073169]\n",
            " [0.00076365 0.00078414 0.00080569 0.00072649 0.00089951 0.00082248\n",
            "  0.0006589  0.00077852 0.0008304  0.00075134 0.00071792 0.0007354\n",
            "  0.00082556 0.00076925 0.00078862 0.00077863 0.00065287 0.00074857\n",
            "  0.00063516 0.00114376 0.00071887 0.00086479 0.00076576 0.00079405\n",
            "  0.00079446]\n",
            " [0.0007393  0.0007314  0.00074286 0.0007106  0.0007431  0.00081525\n",
            "  0.0006583  0.00075072 0.00081702 0.00074352 0.00069372 0.00080107\n",
            "  0.00081585 0.00073999 0.00076191 0.00077177 0.00072821 0.00073311\n",
            "  0.00070552 0.00071887 0.00106471 0.00087055 0.00070509 0.0007822\n",
            "  0.00077377]\n",
            " [0.00089404 0.00092704 0.00093738 0.00086575 0.00096836 0.00094282\n",
            "  0.00085841 0.0008507  0.00096156 0.00089864 0.00084646 0.00090888\n",
            "  0.00093873 0.00088774 0.00093081 0.00095602 0.00084586 0.00091179\n",
            "  0.00079661 0.00086479 0.00087055 0.00136282 0.00089446 0.00093661\n",
            "  0.00089432]\n",
            " [0.0007717  0.00077795 0.00081312 0.00077198 0.0008016  0.0007911\n",
            "  0.0006775  0.0007725  0.00084022 0.00072772 0.00075547 0.00075769\n",
            "  0.00077696 0.0007679  0.0008251  0.00081404 0.00067323 0.00078955\n",
            "  0.00069894 0.00076576 0.00070509 0.00089446 0.00118556 0.00077017\n",
            "  0.00085967]\n",
            " [0.00081179 0.00082205 0.00083753 0.00079977 0.00088093 0.0008346\n",
            "  0.00070188 0.00079229 0.00089125 0.00085271 0.00079486 0.000883\n",
            "  0.00085813 0.00082778 0.00085549 0.00083273 0.00075491 0.00078604\n",
            "  0.00071095 0.00079405 0.0007822  0.00093661 0.00077017 0.00123924\n",
            "  0.00088456]\n",
            " [0.00080609 0.00081454 0.00086731 0.00084531 0.00087671 0.00087905\n",
            "  0.00072558 0.00083419 0.00093548 0.00079433 0.00075565 0.00085557\n",
            "  0.00080346 0.00079301 0.00083856 0.00090541 0.00074363 0.00078015\n",
            "  0.00073169 0.00079446 0.00077377 0.00089432 0.00085967 0.00088456\n",
            "  0.00124629]]\n"
          ],
          "name": "stdout"
        }
      ]
    },
    {
      "cell_type": "markdown",
      "metadata": {
        "id": "6kir6d-xdBi_"
      },
      "source": [
        "This array is not formatted particularly nicely, but a covariance matrix is a very important concept. The covariance matrix is of the form:\n",
        "\n",
        "$$ \\left[\\begin{matrix}\n",
        "VAR[S_1] & COV[S_1, S_2] & \\cdots & COV[S_1, S_N] \\\\\n",
        "COV[S_2, S_1] & VAR[S_2] & \\cdots & COV[S_2, S_N] \\\\\n",
        "\\vdots & \\vdots & \\ddots & \\vdots \\\\\n",
        "COV[S_N, S_1] & COV[S_N, S_2] & \\cdots & VAR[S_N]\n",
        "\\end{matrix}\\right] $$\n",
        "\n",
        "So each diagonal entry is the variance of that asset at that index and each off-diagonal holds the covariance of two assets indexed by the column and row number. What is important is that once we have the covariance matrix we are able to do some very quick linear algebra to calculate the variance of the overall portfolio. We can represent the variance of the portfolio in array form as:\n",
        "\n",
        "$$ \\sigma_p^2 = \\omega \\ C \\ \\omega^\\intercal$$\n",
        "\n",
        "Where $C$ is the covariance matrix of all the assets and $\\omega$ is the array containing the weights of each individual asset. The superscript $\\intercal$ on the second $\\omega$ listed above denotes the **transpose** of $\\omega$. For a reference on the evaluation of the variance of a portfolio as a matrix equation, please see the Wikipedia article on [modern portfolio theory](https://en.wikipedia.org/wiki/Modern_portfolio_theory).\n",
        "\n",
        "The transpose of an array is what you get when you switch the rows and columns of an array. This has the effect of reflecting an array across what you might imagine as a diagonal. For example, take our array $A$ from before:"
      ]
    },
    {
      "cell_type": "code",
      "metadata": {
        "id": "beUsh4xLdBi_",
        "colab": {
          "base_uri": "https://localhost:8080/"
        },
        "outputId": "95c4c9de-e762-4cc0-9b6e-a1f347fea9cc"
      },
      "source": [
        "print(A)"
      ],
      "execution_count": 71,
      "outputs": [
        {
          "output_type": "stream",
          "text": [
            "[[ 1  2  3 12  6]\n",
            " [ 4  5  6 15 20]\n",
            " [ 7  8  9 10 10]]\n"
          ],
          "name": "stdout"
        }
      ]
    },
    {
      "cell_type": "markdown",
      "metadata": {
        "id": "uP5hkOa5dBjA"
      },
      "source": [
        "The transpose looks like a mirror image of the same array."
      ]
    },
    {
      "cell_type": "code",
      "metadata": {
        "colab": {
          "base_uri": "https://localhost:8080/"
        },
        "id": "CCWvF2vZxhTX",
        "outputId": "a0bbb9b2-801b-4bc4-e1e8-8b3aca42b194"
      },
      "source": [
        "print(C)"
      ],
      "execution_count": 74,
      "outputs": [
        {
          "output_type": "stream",
          "text": [
            "[[ 4  6  7 15  3]\n",
            " [ 3  8  9 18 22]\n",
            " [ 5  1  2 11  9]]\n"
          ],
          "name": "stdout"
        }
      ]
    },
    {
      "cell_type": "code",
      "metadata": {
        "id": "85nao8Q1dBjA",
        "colab": {
          "base_uri": "https://localhost:8080/"
        },
        "outputId": "197a7ef5-e2fd-46a3-e2f3-7c8ed380dd30"
      },
      "source": [
        "print(np.transpose(A))"
      ],
      "execution_count": 72,
      "outputs": [
        {
          "output_type": "stream",
          "text": [
            "[[ 1  4  7]\n",
            " [ 2  5  8]\n",
            " [ 3  6  9]\n",
            " [12 15 10]\n",
            " [ 6 20 10]]\n"
          ],
          "name": "stdout"
        }
      ]
    },
    {
      "cell_type": "code",
      "metadata": {
        "colab": {
          "base_uri": "https://localhost:8080/"
        },
        "id": "UD8mOsQQxkfc",
        "outputId": "62cc4ad8-e456-4781-a804-7c51679869d6"
      },
      "source": [
        "print(np.transpose(C))"
      ],
      "execution_count": 75,
      "outputs": [
        {
          "output_type": "stream",
          "text": [
            "[[ 4  3  5]\n",
            " [ 6  8  1]\n",
            " [ 7  9  2]\n",
            " [15 18 11]\n",
            " [ 3 22  9]]\n"
          ],
          "name": "stdout"
        }
      ]
    },
    {
      "cell_type": "markdown",
      "metadata": {
        "id": "hC7Lgh6udBjA"
      },
      "source": [
        "But $\\omega$ here is a 1-dimensional array, a vector! It makes perfect to take the transpose of $A$, a $3 \\times 5$ array, as the output will be a $5 \\times 3$ array, but a 1-dimensional array is not quite as intuitive. A typical 1-dimensional array can be thought of as a $1 \\times n$ horizontal vector. Thus, taking the tranpose of this array essentially means changing it into a $n \\times 1$ vertical vector. This makes sense because 1-dimensional arrays are still arrays and any multiplication done between 1-dimensional and higher dimensional arrays must keep in line with our dimensionality issue of matrix multiplication.\n",
        "\n",
        "To make a long story short, we think of $\\omega$ as $1 \\times N$ since we have $N$ securities. This makes it so that $\\omega^\\intercal$ is $N \\times 1$. Again, our covariance matrix is $N \\times N$. So the overall multiplication works out like so, in informal terms:\n",
        "\n",
        "$$ \\text{Dimensions}(\\sigma_p^2) = \\text{Dimensions}(\\omega C \\omega^\\intercal) = (1 \\times N)\\cdot (N \\times N)\\cdot (N \\times 1) = (1 \\times 1)$$\n",
        "\n",
        "Multiplying the covariance matrix on the left by the plain horizontal vector and on the right by that vector's transpose results in the calculation of a single scalar ($1 \\times 1$) value, our portfolio's variance.\n",
        "\n",
        "So knowing this, let's proceed and calculate the portfolio variance! We can easily calculate the product of these arrays by using `dot()` for matrix multiplication, though this time we have to do it twice."
      ]
    },
    {
      "cell_type": "code",
      "metadata": {
        "scrolled": false,
        "id": "TWZvCpgRdBjA",
        "colab": {
          "base_uri": "https://localhost:8080/"
        },
        "outputId": "8195c78c-5d25-4222-b185-0e826949b61b"
      },
      "source": [
        "# Calculating the portfolio volatility\n",
        "var_p = np.dot(np.dot(weights, cov_mat), weights.T)\n",
        "vol_p = np.sqrt(var_p)\n",
        "print(\"Portfolio volatility: \", vol_p)"
      ],
      "execution_count": 114,
      "outputs": [
        {
          "output_type": "stream",
          "text": [
            "Portfolio volatility:  0.03103283804721809\n"
          ],
          "name": "stdout"
        }
      ]
    },
    {
      "cell_type": "code",
      "metadata": {
        "colab": {
          "base_uri": "https://localhost:8080/"
        },
        "id": "5t-LrhxbxoMv",
        "outputId": "9f80fdf7-b9b6-4193-f4ae-03f9affb2a18"
      },
      "source": [
        "var_p1 = np.dot(np.dot(weights1, cov_mat1), weights1.T)\r\n",
        "vol_p1 = np.sqrt(var_p1)\r\n",
        "print(\"Portfolio volatility: \", vol_p1)"
      ],
      "execution_count": 115,
      "outputs": [
        {
          "output_type": "stream",
          "text": [
            "Portfolio volatility:  0.02881108576337685\n"
          ],
          "name": "stdout"
        }
      ]
    },
    {
      "cell_type": "markdown",
      "metadata": {
        "id": "mUWZ3Y24dBjA"
      },
      "source": [
        "To confirm this calculation, let's simply evaluate the volatility of the portfolio using only NumPy functions."
      ]
    },
    {
      "cell_type": "code",
      "metadata": {
        "id": "rTMaG-S4dBjB",
        "colab": {
          "base_uri": "https://localhost:8080/"
        },
        "outputId": "a74e52e0-05e3-4ddd-b3ae-3535e40992aa"
      },
      "source": [
        "# Confirming calculation\n",
        "vol_p_alt = np.sqrt(np.var(np.dot(weights, returns), ddof=1))\n",
        "print(\"Portfolio volatility: \", vol_p_alt)"
      ],
      "execution_count": 116,
      "outputs": [
        {
          "output_type": "stream",
          "text": [
            "Portfolio volatility:  0.03124629009731137\n"
          ],
          "name": "stdout"
        }
      ]
    },
    {
      "cell_type": "code",
      "metadata": {
        "colab": {
          "base_uri": "https://localhost:8080/"
        },
        "id": "AX87M0hexv5o",
        "outputId": "1b08eb08-40d6-4eb2-f3d1-0da64b3d1fec"
      },
      "source": [
        "vol_p_alt1 = np.sqrt(np.var(np.dot(weights1, returns1), ddof=1))\r\n",
        "print(\"Portfolio volatility: \", vol_p_alt1)"
      ],
      "execution_count": 119,
      "outputs": [
        {
          "output_type": "stream",
          "text": [
            "Portfolio volatility:  0.028811086793467135\n"
          ],
          "name": "stdout"
        }
      ]
    },
    {
      "cell_type": "markdown",
      "metadata": {
        "id": "ckCQfrbVdBjB"
      },
      "source": [
        "The `ddof` parameter is a simple integer input that tells the function the number of degrees of freedom to take into account. This is a more statistical concept, but what this tells us that our matrix calculation is correct!\n",
        "\n",
        "A lot of this might not make sense at first glance. It helps to go back and forth between the theory and the code representations until you have a better grasp of the mathematics involved. It is definitely not necessary to be an expert on linear algebra and on matrix operations, but linear algebra can help to streamline the process of working with large amounts of data. For further reading on NumPy, check out the [documentation](https://docs.scipy.org/doc/numpy/user/index.html)."
      ]
    },
    {
      "cell_type": "markdown",
      "metadata": {
        "id": "inTR_Fa6dBjB"
      },
      "source": [
        "*This presentation is for informational purposes only and does not constitute an offer to sell, a solicitation to buy, or a recommendation for any security; nor does it constitute an offer to provide investment advisory or other services by Quantopian, Inc. (\"Quantopian\"). Nothing contained herein constitutes investment advice or offers any opinion with respect to the suitability of any security, and any views expressed herein should not be taken as advice to buy, sell, or hold any security or as an endorsement of any security or company.  In preparing the information contained herein, Quantopian, Inc. has not taken into account the investment needs, objectives, and financial circumstances of any particular investor. Any views expressed and data illustrated herein were prepared based upon information, believed to be reliable, available to Quantopian, Inc. at the time of publication. Quantopian makes no guarantees as to their accuracy or completeness. All information is subject to change and may quickly become unreliable for various reasons, including changes in market conditions or economic circumstances.*"
      ]
    }
  ]
}