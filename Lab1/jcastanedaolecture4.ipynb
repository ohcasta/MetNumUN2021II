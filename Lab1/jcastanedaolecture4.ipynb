{
  "nbformat": 4,
  "nbformat_minor": 0,
  "metadata": {
    "kernelspec": {
      "name": "python3",
      "display_name": "Python 3"
    },
    "colab": {
      "name": "jcastanedaolecture4.ipynb",
      "provenance": [],
      "collapsed_sections": []
    }
  },
  "cells": [
    {
      "cell_type": "markdown",
      "metadata": {
        "deletable": true,
        "editable": true,
        "id": "zYTPvX-EhSt1"
      },
      "source": [
        "# Exercises: Introduction to pandas\n",
        "By Christopher van Hoecke, Maxwell Margenot\n",
        "\n",
        "## Lecture Link : \n",
        "https://www.quantopian.com/lectures/introduction-to-pandas\n",
        "\n",
        "### IMPORTANT NOTE: \n",
        "This lecture corresponds to the Introduction to Pandas lecture, which is part of the Quantopian lecture series. This homework expects you to rely heavily on the code presented in the corresponding lecture. Please copy and paste regularly from that lecture when starting to work on the problems, as trying to do them from scratch will likely be too difficult.\n",
        "\n",
        "Part of the Quantopian Lecture Series:\n",
        "\n",
        "* [www.quantopian.com/lectures](https://www.quantopian.com/lectures)\n",
        "* [github.com/quantopian/research_public](https://github.com/quantopian/research_public)\n",
        "\n",
        "\n",
        "\n",
        "----"
      ]
    },
    {
      "cell_type": "code",
      "metadata": {
        "collapsed": true,
        "deletable": true,
        "editable": true,
        "id": "F3P-h3KRhSuH"
      },
      "source": [
        "# Useful Functions\n",
        "import numpy as np\n",
        "import pandas as pd\n",
        "import matplotlib.pyplot as plt"
      ],
      "execution_count": null,
      "outputs": []
    },
    {
      "cell_type": "markdown",
      "metadata": {
        "deletable": true,
        "editable": true,
        "id": "DowSFuInhSuJ"
      },
      "source": [
        "----"
      ]
    },
    {
      "cell_type": "markdown",
      "metadata": {
        "deletable": true,
        "editable": true,
        "id": "JfiCUtfUhSuL"
      },
      "source": [
        "# Exercise 1\n",
        "## a. Series \n",
        "Given an array of data, please create a pandas Series `s` with a datetime index starting `2016-01-01`. The index should be daily frequency and should be the same length as the data."
      ]
    },
    {
      "cell_type": "code",
      "metadata": {
        "deletable": true,
        "editable": true,
        "colab": {
          "base_uri": "https://localhost:8080/"
        },
        "id": "I1DYQVf1hSuM",
        "outputId": "e18b6dd2-28e9-4f82-a9a5-102a91aebf50"
      },
      "source": [
        "l = np.random.randint(1,100, size=1000)\n",
        "s = pd.Series(l)\n",
        "\n",
        "nindex = pd.date_range(\"2016-01-01\", periods=len(s), freq=\"D\")\n",
        "s.index = nindex\n",
        "print(s)"
      ],
      "execution_count": null,
      "outputs": [
        {
          "output_type": "stream",
          "text": [
            "2016-01-01    92\n",
            "2016-01-02    94\n",
            "2016-01-03    87\n",
            "2016-01-04    31\n",
            "2016-01-05    26\n",
            "              ..\n",
            "2018-09-22    51\n",
            "2018-09-23    93\n",
            "2018-09-24    44\n",
            "2018-09-25    86\n",
            "2018-09-26    69\n",
            "Freq: D, Length: 1000, dtype: int64\n"
          ],
          "name": "stdout"
        }
      ]
    },
    {
      "cell_type": "markdown",
      "metadata": {
        "deletable": true,
        "editable": true,
        "id": "ptnGTm7hhSuN"
      },
      "source": [
        "## b. Accessing Series Elements.\n",
        "- Print every other element of the first 50 elements of series `s`.\n",
        "- Find the value associated with the index `2017-02-20`."
      ]
    },
    {
      "cell_type": "code",
      "metadata": {
        "deletable": true,
        "editable": true,
        "colab": {
          "base_uri": "https://localhost:8080/"
        },
        "id": "gORLLm69hSuP",
        "outputId": "8afa5aad-053c-4772-d640-e573ce6d97c8"
      },
      "source": [
        "print(s.iloc[:50:2])\n",
        "print(s.loc['2017-02-20'])"
      ],
      "execution_count": null,
      "outputs": [
        {
          "output_type": "stream",
          "text": [
            "2016-01-01    92\n",
            "2016-01-03    87\n",
            "2016-01-05    26\n",
            "2016-01-07    55\n",
            "2016-01-09    52\n",
            "2016-01-11     4\n",
            "2016-01-13    84\n",
            "2016-01-15    55\n",
            "2016-01-17    31\n",
            "2016-01-19    72\n",
            "2016-01-21    13\n",
            "2016-01-23    26\n",
            "2016-01-25    41\n",
            "2016-01-27    42\n",
            "2016-01-29    20\n",
            "2016-01-31    29\n",
            "2016-02-02    43\n",
            "2016-02-04     3\n",
            "2016-02-06    82\n",
            "2016-02-08    93\n",
            "2016-02-10    79\n",
            "2016-02-12    39\n",
            "2016-02-14    73\n",
            "2016-02-16    31\n",
            "2016-02-18    44\n",
            "Freq: 2D, dtype: int64\n",
            "81\n"
          ],
          "name": "stdout"
        }
      ]
    },
    {
      "cell_type": "markdown",
      "metadata": {
        "deletable": true,
        "editable": true,
        "id": "DkculVuEhSuP"
      },
      "source": [
        "## c. Boolean Indexing.\n",
        "In the series `s`, print all the values between 1 and 3."
      ]
    },
    {
      "cell_type": "code",
      "metadata": {
        "deletable": true,
        "editable": true,
        "colab": {
          "base_uri": "https://localhost:8080/"
        },
        "id": "zVXx60x6hSuQ",
        "outputId": "ed23f55e-8b41-450b-f3fe-d9aca54c6373"
      },
      "source": [
        "print(s.loc[(s>1) & (s<3)])"
      ],
      "execution_count": null,
      "outputs": [
        {
          "output_type": "stream",
          "text": [
            "2016-03-05    2\n",
            "2016-05-29    2\n",
            "2016-11-11    2\n",
            "2016-11-14    2\n",
            "2017-08-23    2\n",
            "2017-09-22    2\n",
            "2017-12-09    2\n",
            "2018-01-23    2\n",
            "2018-03-13    2\n",
            "2018-05-21    2\n",
            "2018-07-06    2\n",
            "dtype: int64\n"
          ],
          "name": "stdout"
        }
      ]
    },
    {
      "cell_type": "markdown",
      "metadata": {
        "deletable": true,
        "editable": true,
        "id": "QuBEFre9hSuR"
      },
      "source": [
        "----"
      ]
    },
    {
      "cell_type": "markdown",
      "metadata": {
        "deletable": true,
        "editable": true,
        "id": "Lr-mKRtAhSuR"
      },
      "source": [
        "#Exercise 2 : Indexing and time series. \n",
        "###a. Display\n",
        "Print the first and last 5 elements of the series `s`."
      ]
    },
    {
      "cell_type": "code",
      "metadata": {
        "deletable": true,
        "editable": true,
        "colab": {
          "base_uri": "https://localhost:8080/"
        },
        "id": "evDQ0SzHhSuS",
        "outputId": "055604b3-f92f-4edf-f031-03812e1a4a91"
      },
      "source": [
        "print(s.head(5))\n",
        "print(s.tail(5))"
      ],
      "execution_count": null,
      "outputs": [
        {
          "output_type": "stream",
          "text": [
            "2016-01-01    92\n",
            "2016-01-02    94\n",
            "2016-01-03    87\n",
            "2016-01-04    31\n",
            "2016-01-05    26\n",
            "Freq: D, dtype: int64\n",
            "2018-09-22    51\n",
            "2018-09-23    93\n",
            "2018-09-24    44\n",
            "2018-09-25    86\n",
            "2018-09-26    69\n",
            "Freq: D, dtype: int64\n"
          ],
          "name": "stdout"
        }
      ]
    },
    {
      "cell_type": "markdown",
      "metadata": {
        "deletable": true,
        "editable": true,
        "id": "quXqQCn3hSuS"
      },
      "source": [
        "### b. Resampling\n",
        "- Using the resample method, upsample the daily data to monthly frequency. Use the median method so that each monthly value is the median price of all the days in that month.\n",
        "- Take the daily data and fill in every day, including weekends and holidays, using forward-fills. "
      ]
    },
    {
      "cell_type": "code",
      "metadata": {
        "deletable": true,
        "editable": true,
        "colab": {
          "base_uri": "https://localhost:8080/"
        },
        "id": "HXwtI8UThSuT",
        "outputId": "c956ed23-d220-4fce-bde4-8ac7e108886b"
      },
      "source": [
        "symbol = \"CMG\"\n",
        "start = \"2012-01-01\"\n",
        "end = \"2016-01-01\"\n",
        "prices = pd.read_csv(\"CMG.csv\")\n",
        "prices = prices.set_index(pd.to_datetime(prices[\"Date\"]))['Close']\n",
        "\n",
        "# Resample daily prices to get monthly prices using median.\n",
        "monthly_prices = prices.resample('M').median()\n",
        "monthly_prices.head(24)"
      ],
      "execution_count": null,
      "outputs": [
        {
          "output_type": "execute_result",
          "data": {
            "text/plain": [
              "Date\n",
              "2012-01-31    355.505005\n",
              "2012-02-29    378.195007\n",
              "2012-03-31    408.994996\n",
              "2012-04-30    420.835007\n",
              "2012-05-31    405.240006\n",
              "2012-06-30    402.450012\n",
              "2012-07-31    380.470001\n",
              "2012-08-31    295.390015\n",
              "2012-09-30    332.809998\n",
              "2012-10-31    286.559998\n",
              "2012-11-30    263.779999\n",
              "2012-12-31    282.164994\n",
              "2013-01-31    299.589996\n",
              "2013-02-28    315.510010\n",
              "2013-03-31    321.555008\n",
              "2013-04-30    340.925003\n",
              "2013-05-31    369.820007\n",
              "2013-06-30    364.169998\n",
              "2013-07-31    386.299988\n",
              "2013-08-31    405.190002\n",
              "2013-09-30    418.880005\n",
              "2013-10-31    442.019989\n",
              "2013-11-30    535.929993\n",
              "2013-12-31    522.640015\n",
              "Freq: M, Name: Close, dtype: float64"
            ]
          },
          "metadata": {
            "tags": []
          },
          "execution_count": 48
        }
      ]
    },
    {
      "cell_type": "code",
      "metadata": {
        "colab": {
          "base_uri": "https://localhost:8080/"
        },
        "id": "ALiLorKCn98L",
        "outputId": "4f377b37-2149-41bf-a411-ea77ef704298"
      },
      "source": [
        "# Data for every day, (including weekends and holidays)\n",
        "calendar_dates = pd.date_range(start=start, end=end)\n",
        "calendar_prices = prices.reindex(calendar_dates, method='ffill')\n",
        "calendar_prices.head(15)"
      ],
      "execution_count": null,
      "outputs": [
        {
          "output_type": "execute_result",
          "data": {
            "text/plain": [
              "2012-01-01           NaN\n",
              "2012-01-02           NaN\n",
              "2012-01-03    341.269989\n",
              "2012-01-04    348.750000\n",
              "2012-01-05    350.480011\n",
              "2012-01-06    348.950012\n",
              "2012-01-07    348.950012\n",
              "2012-01-08    348.950012\n",
              "2012-01-09    339.739990\n",
              "2012-01-10    341.119995\n",
              "2012-01-11    347.600006\n",
              "2012-01-12    347.619995\n",
              "2012-01-13    354.619995\n",
              "2012-01-14    354.619995\n",
              "2012-01-15    354.619995\n",
              "Freq: D, Name: Close, dtype: float64"
            ]
          },
          "metadata": {
            "tags": []
          },
          "execution_count": 49
        }
      ]
    },
    {
      "cell_type": "markdown",
      "metadata": {
        "deletable": true,
        "editable": true,
        "id": "YqzWimI5hSuU"
      },
      "source": [
        "----"
      ]
    },
    {
      "cell_type": "markdown",
      "metadata": {
        "deletable": true,
        "editable": true,
        "id": "1ys3Akj4hSuU"
      },
      "source": [
        "#Exercise 3 : Missing Data\n",
        "- Replace all instances of `NaN` using the forward fill method. \n",
        "- Instead of filling, remove all instances of `NaN` from the data."
      ]
    },
    {
      "cell_type": "code",
      "metadata": {
        "deletable": true,
        "editable": true,
        "colab": {
          "base_uri": "https://localhost:8080/"
        },
        "id": "_Tuin7VChSuV",
        "outputId": "7e6d9b0c-3f61-42e9-a666-c0e2a2137493"
      },
      "source": [
        "# Fill missing data using Backwards fill method\n",
        "bfilled_prices = calendar_prices.fillna(method='bfill')\n",
        "bfilled_prices.head(10)"
      ],
      "execution_count": null,
      "outputs": [
        {
          "output_type": "execute_result",
          "data": {
            "text/plain": [
              "2012-01-01    341.269989\n",
              "2012-01-02    341.269989\n",
              "2012-01-03    341.269989\n",
              "2012-01-04    348.750000\n",
              "2012-01-05    350.480011\n",
              "2012-01-06    348.950012\n",
              "2012-01-07    348.950012\n",
              "2012-01-08    348.950012\n",
              "2012-01-09    339.739990\n",
              "2012-01-10    341.119995\n",
              "Freq: D, Name: Close, dtype: float64"
            ]
          },
          "metadata": {
            "tags": []
          },
          "execution_count": 50
        }
      ]
    },
    {
      "cell_type": "code",
      "metadata": {
        "deletable": true,
        "editable": true,
        "colab": {
          "base_uri": "https://localhost:8080/"
        },
        "id": "d24KrEfVhSuV",
        "outputId": "59e1a579-3e5a-4455-c21c-d96a68b0da6f"
      },
      "source": [
        "# Drop instances of nan in the data\n",
        "dropped_prices = calendar_prices.dropna()\n",
        "dropped_prices.head(10)"
      ],
      "execution_count": null,
      "outputs": [
        {
          "output_type": "execute_result",
          "data": {
            "text/plain": [
              "2012-01-03    341.269989\n",
              "2012-01-04    348.750000\n",
              "2012-01-05    350.480011\n",
              "2012-01-06    348.950012\n",
              "2012-01-07    348.950012\n",
              "2012-01-08    348.950012\n",
              "2012-01-09    339.739990\n",
              "2012-01-10    341.119995\n",
              "2012-01-11    347.600006\n",
              "2012-01-12    347.619995\n",
              "Freq: D, Name: Close, dtype: float64"
            ]
          },
          "metadata": {
            "tags": []
          },
          "execution_count": 51
        }
      ]
    },
    {
      "cell_type": "markdown",
      "metadata": {
        "deletable": true,
        "editable": true,
        "id": "ekz9yTDuhSuW"
      },
      "source": [
        "----"
      ]
    },
    {
      "cell_type": "markdown",
      "metadata": {
        "deletable": true,
        "editable": true,
        "id": "LZagmO6FhSuX"
      },
      "source": [
        "# Exercise 4 : Time Series Analysis with pandas\n",
        "## a. General Information\n",
        "Print the count, mean, standard deviation, minimum, 25th, 50th, and 75th percentiles, and the max of our series s. "
      ]
    },
    {
      "cell_type": "code",
      "metadata": {
        "deletable": true,
        "editable": true,
        "colab": {
          "base_uri": "https://localhost:8080/"
        },
        "id": "IBRD4uhEhSuZ",
        "outputId": "54fc890a-6d94-44bb-f822-1aa6a00df1e8"
      },
      "source": [
        "print(\"Summary Statistics\")\n",
        "print(prices.describe())"
      ],
      "execution_count": null,
      "outputs": [
        {
          "output_type": "stream",
          "text": [
            "Summary Statistics\n",
            "count    1006.000000\n",
            "mean      501.636650\n",
            "std       146.688738\n",
            "min       236.240005\n",
            "25%       371.555001\n",
            "50%       521.270019\n",
            "75%       646.834991\n",
            "max       757.770020\n",
            "Name: Close, dtype: float64\n"
          ],
          "name": "stdout"
        }
      ]
    },
    {
      "cell_type": "markdown",
      "metadata": {
        "deletable": true,
        "editable": true,
        "id": "C99nU3rqhSua"
      },
      "source": [
        "## b. Series Operations\n",
        "- Get the additive and multiplicative returns of this series. \n",
        "- Calculate the rolling mean with a 60 day window.\n",
        "- Calculate the standard deviation with a 60 day window."
      ]
    },
    {
      "cell_type": "code",
      "metadata": {
        "deletable": true,
        "editable": true,
        "id": "l3LS_dc8hSua"
      },
      "source": [
        "data = pd.read_csv(\"GE.csv\")\n",
        "data = data[\"Open\"]\n",
        "\n",
        "mult_returns = data.pct_change()[1:]\n",
        "add_returns = data.diff()[1:]"
      ],
      "execution_count": null,
      "outputs": []
    },
    {
      "cell_type": "code",
      "metadata": {
        "collapsed": true,
        "deletable": true,
        "editable": true,
        "id": "ZLaAvmyLhSua"
      },
      "source": [
        "# Rolling mean\n",
        "\n",
        "rolling_mean = data.rolling(window=60).mean()\n",
        "rolling_mean.name = \"60-day rolling mean\""
      ],
      "execution_count": null,
      "outputs": []
    },
    {
      "cell_type": "code",
      "metadata": {
        "collapsed": true,
        "deletable": true,
        "editable": true,
        "id": "WgYaizorhSub"
      },
      "source": [
        "# Rolling Standard Deviation\n",
        "rolling_std = data.rolling(window=60).std()\n",
        "rolling_std.name = \"60-day rolling volatility\""
      ],
      "execution_count": null,
      "outputs": []
    },
    {
      "cell_type": "markdown",
      "metadata": {
        "deletable": true,
        "editable": true,
        "id": "pT-38bSihSub"
      },
      "source": [
        "----"
      ]
    },
    {
      "cell_type": "markdown",
      "metadata": {
        "deletable": true,
        "editable": true,
        "id": "PQ530GyghSub"
      },
      "source": [
        "# Exercise 5 : DataFrames\n",
        "## a. Indexing\n",
        "Form a DataFrame out of `dict_data` with `l` as its index."
      ]
    },
    {
      "cell_type": "code",
      "metadata": {
        "deletable": true,
        "editable": true,
        "colab": {
          "base_uri": "https://localhost:8080/"
        },
        "id": "VLUcEni5hSub",
        "outputId": "d4e6f7f5-26c8-4af8-ff73-e1fd3963625b"
      },
      "source": [
        "l = {'fifth','fourth', 'third', 'second', 'first'}\n",
        "dict_data = {'a' : [1, 2, 3, 4, 5], 'b' : ['L', 'K', 'J', 'M', 'Z'],'c' : np.random.normal(0, 1, 5)}\n",
        "\n",
        "# Adding l as an index to dict_data\n",
        "frame_data = pd.DataFrame(dict_data, index=l)\n",
        "print(frame_data)"
      ],
      "execution_count": null,
      "outputs": [
        {
          "output_type": "stream",
          "text": [
            "        a  b         c\n",
            "second  1  L -0.337724\n",
            "fifth   2  K -0.083598\n",
            "fourth  3  J -0.177862\n",
            "first   4  M -1.588705\n",
            "third   5  Z -0.366547\n"
          ],
          "name": "stdout"
        }
      ]
    },
    {
      "cell_type": "markdown",
      "metadata": {
        "deletable": true,
        "editable": true,
        "id": "UO-Gcv5EhSuc"
      },
      "source": [
        "## b. DataFrames Manipulation\n",
        "- Concatenate the following two series to form a dataframe. \n",
        "- Rename the columns to `Good Numbers` and `Bad Numbers`. \n",
        "- Change the index to be a datetime index starting on `2016-01-01`."
      ]
    },
    {
      "cell_type": "code",
      "metadata": {
        "collapsed": true,
        "deletable": true,
        "editable": true,
        "colab": {
          "base_uri": "https://localhost:8080/"
        },
        "id": "h2ckhzo4hSuc",
        "outputId": "eca85340-bc2c-4940-efff-a5609ae27d28"
      },
      "source": [
        "s1 = pd.Series([2, 3, 5, 7, 11, 13], name='prime')\n",
        "s2 = pd.Series([1, 4, 6, 8, 9, 10], name='other')\n",
        "\n",
        "numbers = pd.concat([s1, s2], axis=1) # Concatenate the two series\n",
        "numbers.columns = ['Useful Numbers', 'Not Useful Numbers'] # Rename the two columns\n",
        "numbers.index = pd.date_range(\"2016-01-01\", periods=len(numbers)) # Index change\n",
        "print(numbers)"
      ],
      "execution_count": null,
      "outputs": [
        {
          "output_type": "stream",
          "text": [
            "            Useful Numbers  Not Useful Numbers\n",
            "2016-01-01               2                   1\n",
            "2016-01-02               3                   4\n",
            "2016-01-03               5                   6\n",
            "2016-01-04               7                   8\n",
            "2016-01-05              11                   9\n",
            "2016-01-06              13                  10\n"
          ],
          "name": "stdout"
        }
      ]
    },
    {
      "cell_type": "markdown",
      "metadata": {
        "deletable": true,
        "editable": true,
        "id": "8erJa2K8hSuc"
      },
      "source": [
        "----"
      ]
    },
    {
      "cell_type": "markdown",
      "metadata": {
        "deletable": true,
        "editable": true,
        "id": "g-G_K6XKhSud"
      },
      "source": [
        "# Exercise 6 : Accessing DataFrame elements.\n",
        "## a. Columns\n",
        "- Check the data type of one of the DataFrame's columns.\n",
        "- Print the values associated with time range `2013-01-01` to `2013-01-10`."
      ]
    },
    {
      "cell_type": "code",
      "metadata": {
        "deletable": true,
        "editable": true,
        "colab": {
          "base_uri": "https://localhost:8080/",
          "height": 504
        },
        "id": "EEARXb55hSud",
        "outputId": "3171a274-5f04-4a8d-f0fe-0ea757b993d6"
      },
      "source": [
        "symbol = [\"XOM\", \"BP\", \"COP\", \"TOT\"]\n",
        "start = \"2012-01-01\"\n",
        "end = \"2016-01-01\"\n",
        "\n",
        "Li = []\n",
        "\n",
        "for i in range(len(symbol)):\n",
        "    Li.append(pd.read_csv(symbol[i] + \".csv\"))\n",
        "\n",
        "prices = pd.concat(Li, axis=1, ignore_index=True)\n",
        "prices = prices.iloc[:, [0, 4, 11, 18, 25]]\n",
        "prices.columns = [\"Date\", \"XOM\", \"BP\", \"COP\", \"TOT\"]\n",
        "prices.time = pd.to_datetime(prices['Date'], format='%Y-%m-%d %H:%M:%S.%f')\n",
        "prices.set_index(['Date'],inplace=True)\n",
        "prices"
      ],
      "execution_count": null,
      "outputs": [
        {
          "output_type": "stream",
          "text": [
            "/usr/local/lib/python3.7/dist-packages/ipykernel_launcher.py:13: UserWarning: Pandas doesn't allow columns to be created via a new attribute name - see https://pandas.pydata.org/pandas-docs/stable/indexing.html#attribute-access\n",
            "  del sys.path[0]\n"
          ],
          "name": "stderr"
        },
        {
          "output_type": "execute_result",
          "data": {
            "text/html": [
              "<div>\n",
              "<style scoped>\n",
              "    .dataframe tbody tr th:only-of-type {\n",
              "        vertical-align: middle;\n",
              "    }\n",
              "\n",
              "    .dataframe tbody tr th {\n",
              "        vertical-align: top;\n",
              "    }\n",
              "\n",
              "    .dataframe thead th {\n",
              "        text-align: right;\n",
              "    }\n",
              "</style>\n",
              "<table border=\"1\" class=\"dataframe\">\n",
              "  <thead>\n",
              "    <tr style=\"text-align: right;\">\n",
              "      <th></th>\n",
              "      <th>XOM</th>\n",
              "      <th>BP</th>\n",
              "      <th>COP</th>\n",
              "      <th>TOT</th>\n",
              "    </tr>\n",
              "    <tr>\n",
              "      <th>Date</th>\n",
              "      <th></th>\n",
              "      <th></th>\n",
              "      <th></th>\n",
              "      <th></th>\n",
              "    </tr>\n",
              "  </thead>\n",
              "  <tbody>\n",
              "    <tr>\n",
              "      <th>2012-01-03</th>\n",
              "      <td>86.000000</td>\n",
              "      <td>44.139999</td>\n",
              "      <td>56.541019</td>\n",
              "      <td>52.470001</td>\n",
              "    </tr>\n",
              "    <tr>\n",
              "      <th>2012-01-04</th>\n",
              "      <td>86.019997</td>\n",
              "      <td>44.750000</td>\n",
              "      <td>56.274208</td>\n",
              "      <td>52.270000</td>\n",
              "    </tr>\n",
              "    <tr>\n",
              "      <th>2012-01-05</th>\n",
              "      <td>85.760002</td>\n",
              "      <td>44.250000</td>\n",
              "      <td>55.824444</td>\n",
              "      <td>51.209999</td>\n",
              "    </tr>\n",
              "    <tr>\n",
              "      <th>2012-01-06</th>\n",
              "      <td>85.120003</td>\n",
              "      <td>44.080002</td>\n",
              "      <td>55.389919</td>\n",
              "      <td>50.750000</td>\n",
              "    </tr>\n",
              "    <tr>\n",
              "      <th>2012-01-09</th>\n",
              "      <td>85.500000</td>\n",
              "      <td>44.070000</td>\n",
              "      <td>55.603371</td>\n",
              "      <td>51.250000</td>\n",
              "    </tr>\n",
              "    <tr>\n",
              "      <th>...</th>\n",
              "      <td>...</td>\n",
              "      <td>...</td>\n",
              "      <td>...</td>\n",
              "      <td>...</td>\n",
              "    </tr>\n",
              "    <tr>\n",
              "      <th>2015-12-24</th>\n",
              "      <td>79.330002</td>\n",
              "      <td>32.119999</td>\n",
              "      <td>48.590000</td>\n",
              "      <td>45.889999</td>\n",
              "    </tr>\n",
              "    <tr>\n",
              "      <th>2015-12-28</th>\n",
              "      <td>78.739998</td>\n",
              "      <td>31.709999</td>\n",
              "      <td>47.189999</td>\n",
              "      <td>45.369999</td>\n",
              "    </tr>\n",
              "    <tr>\n",
              "      <th>2015-12-29</th>\n",
              "      <td>79.160004</td>\n",
              "      <td>31.870001</td>\n",
              "      <td>47.770000</td>\n",
              "      <td>45.849998</td>\n",
              "    </tr>\n",
              "    <tr>\n",
              "      <th>2015-12-30</th>\n",
              "      <td>78.110001</td>\n",
              "      <td>31.309999</td>\n",
              "      <td>46.599998</td>\n",
              "      <td>45.160000</td>\n",
              "    </tr>\n",
              "    <tr>\n",
              "      <th>2015-12-31</th>\n",
              "      <td>77.949997</td>\n",
              "      <td>31.260000</td>\n",
              "      <td>46.689999</td>\n",
              "      <td>44.950001</td>\n",
              "    </tr>\n",
              "  </tbody>\n",
              "</table>\n",
              "<p>1006 rows × 4 columns</p>\n",
              "</div>"
            ],
            "text/plain": [
              "                  XOM         BP        COP        TOT\n",
              "Date                                                  \n",
              "2012-01-03  86.000000  44.139999  56.541019  52.470001\n",
              "2012-01-04  86.019997  44.750000  56.274208  52.270000\n",
              "2012-01-05  85.760002  44.250000  55.824444  51.209999\n",
              "2012-01-06  85.120003  44.080002  55.389919  50.750000\n",
              "2012-01-09  85.500000  44.070000  55.603371  51.250000\n",
              "...               ...        ...        ...        ...\n",
              "2015-12-24  79.330002  32.119999  48.590000  45.889999\n",
              "2015-12-28  78.739998  31.709999  47.189999  45.369999\n",
              "2015-12-29  79.160004  31.870001  47.770000  45.849998\n",
              "2015-12-30  78.110001  31.309999  46.599998  45.160000\n",
              "2015-12-31  77.949997  31.260000  46.689999  44.950001\n",
              "\n",
              "[1006 rows x 4 columns]"
            ]
          },
          "metadata": {
            "tags": []
          },
          "execution_count": 204
        }
      ]
    },
    {
      "cell_type": "code",
      "metadata": {
        "deletable": true,
        "editable": true,
        "colab": {
          "base_uri": "https://localhost:8080/"
        },
        "id": "7tmSayr6hSud",
        "outputId": "78841cf4-0531-496d-85a3-5052a419bdda"
      },
      "source": [
        "# Print data type\n",
        "print(type(prices[\"XOM\"]))\n",
        "print(type(prices.loc[:, 'XOM']))"
      ],
      "execution_count": null,
      "outputs": [
        {
          "output_type": "stream",
          "text": [
            "<class 'pandas.core.series.Series'>\n",
            "<class 'pandas.core.series.Series'>\n"
          ],
          "name": "stdout"
        }
      ]
    },
    {
      "cell_type": "code",
      "metadata": {
        "deletable": true,
        "editable": true,
        "colab": {
          "base_uri": "https://localhost:8080/",
          "height": 297
        },
        "id": "_YL8kenZhSue",
        "outputId": "9bc68e9d-707b-4798-e7d5-0c7c29b95e91"
      },
      "source": [
        "# Print values associated with time range\n",
        "prices.loc['2013-01-01':'2013-01-10']"
      ],
      "execution_count": null,
      "outputs": [
        {
          "output_type": "execute_result",
          "data": {
            "text/html": [
              "<div>\n",
              "<style scoped>\n",
              "    .dataframe tbody tr th:only-of-type {\n",
              "        vertical-align: middle;\n",
              "    }\n",
              "\n",
              "    .dataframe tbody tr th {\n",
              "        vertical-align: top;\n",
              "    }\n",
              "\n",
              "    .dataframe thead th {\n",
              "        text-align: right;\n",
              "    }\n",
              "</style>\n",
              "<table border=\"1\" class=\"dataframe\">\n",
              "  <thead>\n",
              "    <tr style=\"text-align: right;\">\n",
              "      <th></th>\n",
              "      <th>XOM</th>\n",
              "      <th>BP</th>\n",
              "      <th>COP</th>\n",
              "      <th>TOT</th>\n",
              "    </tr>\n",
              "    <tr>\n",
              "      <th>Date</th>\n",
              "      <th></th>\n",
              "      <th></th>\n",
              "      <th></th>\n",
              "      <th></th>\n",
              "    </tr>\n",
              "  </thead>\n",
              "  <tbody>\n",
              "    <tr>\n",
              "      <th>2013-01-02</th>\n",
              "      <td>88.709999</td>\n",
              "      <td>42.419998</td>\n",
              "      <td>59.209999</td>\n",
              "      <td>52.570000</td>\n",
              "    </tr>\n",
              "    <tr>\n",
              "      <th>2013-01-03</th>\n",
              "      <td>88.550003</td>\n",
              "      <td>43.270000</td>\n",
              "      <td>59.169998</td>\n",
              "      <td>52.180000</td>\n",
              "    </tr>\n",
              "    <tr>\n",
              "      <th>2013-01-04</th>\n",
              "      <td>88.959999</td>\n",
              "      <td>43.660000</td>\n",
              "      <td>59.830002</td>\n",
              "      <td>52.310001</td>\n",
              "    </tr>\n",
              "    <tr>\n",
              "      <th>2013-01-07</th>\n",
              "      <td>87.930000</td>\n",
              "      <td>43.400002</td>\n",
              "      <td>59.169998</td>\n",
              "      <td>51.689999</td>\n",
              "    </tr>\n",
              "    <tr>\n",
              "      <th>2013-01-08</th>\n",
              "      <td>88.480003</td>\n",
              "      <td>43.400002</td>\n",
              "      <td>58.369999</td>\n",
              "      <td>51.580002</td>\n",
              "    </tr>\n",
              "    <tr>\n",
              "      <th>2013-01-09</th>\n",
              "      <td>88.139999</td>\n",
              "      <td>44.270000</td>\n",
              "      <td>58.250000</td>\n",
              "      <td>51.549999</td>\n",
              "    </tr>\n",
              "    <tr>\n",
              "      <th>2013-01-10</th>\n",
              "      <td>89.099998</td>\n",
              "      <td>45.009998</td>\n",
              "      <td>58.500000</td>\n",
              "      <td>52.380001</td>\n",
              "    </tr>\n",
              "  </tbody>\n",
              "</table>\n",
              "</div>"
            ],
            "text/plain": [
              "                  XOM         BP        COP        TOT\n",
              "Date                                                  \n",
              "2013-01-02  88.709999  42.419998  59.209999  52.570000\n",
              "2013-01-03  88.550003  43.270000  59.169998  52.180000\n",
              "2013-01-04  88.959999  43.660000  59.830002  52.310001\n",
              "2013-01-07  87.930000  43.400002  59.169998  51.689999\n",
              "2013-01-08  88.480003  43.400002  58.369999  51.580002\n",
              "2013-01-09  88.139999  44.270000  58.250000  51.549999\n",
              "2013-01-10  89.099998  45.009998  58.500000  52.380001"
            ]
          },
          "metadata": {
            "tags": []
          },
          "execution_count": 205
        }
      ]
    },
    {
      "cell_type": "markdown",
      "metadata": {
        "deletable": true,
        "editable": true,
        "id": "cJDQEN3rhSue"
      },
      "source": [
        "----"
      ]
    },
    {
      "cell_type": "markdown",
      "metadata": {
        "deletable": true,
        "editable": true,
        "id": "nol7KJrehSue"
      },
      "source": [
        "# Exercise 7 : Boolean Indexing\n",
        "## a. Filtering.\n",
        "- Filter pricing data from the last question (stored in `prices`) to only print values where:\n",
        "    - BP > 30\n",
        "    - XOM < 100\n",
        "    - The intersection of both above conditions (BP > 30 **and** XOM < 100)\n",
        "    - The union of the previous composite condition along with TOT having no `nan` values ((BP > 30 **and** XOM < 100) **or** TOT is non-`NaN`).\n",
        "- Add a column for TSLA and drop the column for XOM."
      ]
    },
    {
      "cell_type": "code",
      "metadata": {
        "deletable": true,
        "editable": true,
        "colab": {
          "base_uri": "https://localhost:8080/"
        },
        "id": "zlzCcUDIhSuf",
        "outputId": "69734c87-a58d-4bdf-df0e-7c172aefa078"
      },
      "source": [
        "# Filter data \n",
        "# BP > 30\n",
        "print(prices.loc[prices[\"BP\"] > 30].head())\n",
        "# XOM < 100\n",
        "print(prices.loc[prices[\"XOM\"] < 100].head())\n",
        "# BP > 30 AND XOM < 100\n",
        "print(prices.loc[(prices[\"BP\"] > 30) & (prices[\"XOM\"] < 100)].head())\n",
        "# The union of (BP > 30 AND XOM < 100) with TOT being non-nan\n",
        "print(prices.loc[((prices[\"BP\"] > 30) & (prices[\"XOM\"] < 100)) | (~ prices[\"TOT\"].isnull())].head())"
      ],
      "execution_count": null,
      "outputs": [
        {
          "output_type": "stream",
          "text": [
            "                  XOM         BP        COP        TOT\n",
            "Date                                                  \n",
            "2012-01-03  86.000000  44.139999  56.541019  52.470001\n",
            "2012-01-04  86.019997  44.750000  56.274208  52.270000\n",
            "2012-01-05  85.760002  44.250000  55.824444  51.209999\n",
            "2012-01-06  85.120003  44.080002  55.389919  50.750000\n",
            "2012-01-09  85.500000  44.070000  55.603371  51.250000\n",
            "                  XOM         BP        COP        TOT\n",
            "Date                                                  \n",
            "2012-01-03  86.000000  44.139999  56.541019  52.470001\n",
            "2012-01-04  86.019997  44.750000  56.274208  52.270000\n",
            "2012-01-05  85.760002  44.250000  55.824444  51.209999\n",
            "2012-01-06  85.120003  44.080002  55.389919  50.750000\n",
            "2012-01-09  85.500000  44.070000  55.603371  51.250000\n",
            "                  XOM         BP        COP        TOT\n",
            "Date                                                  \n",
            "2012-01-03  86.000000  44.139999  56.541019  52.470001\n",
            "2012-01-04  86.019997  44.750000  56.274208  52.270000\n",
            "2012-01-05  85.760002  44.250000  55.824444  51.209999\n",
            "2012-01-06  85.120003  44.080002  55.389919  50.750000\n",
            "2012-01-09  85.500000  44.070000  55.603371  51.250000\n",
            "                  XOM         BP        COP        TOT\n",
            "Date                                                  \n",
            "2012-01-03  86.000000  44.139999  56.541019  52.470001\n",
            "2012-01-04  86.019997  44.750000  56.274208  52.270000\n",
            "2012-01-05  85.760002  44.250000  55.824444  51.209999\n",
            "2012-01-06  85.120003  44.080002  55.389919  50.750000\n",
            "2012-01-09  85.500000  44.070000  55.603371  51.250000\n"
          ],
          "name": "stdout"
        }
      ]
    },
    {
      "cell_type": "code",
      "metadata": {
        "deletable": true,
        "editable": true,
        "colab": {
          "base_uri": "https://localhost:8080/",
          "height": 235
        },
        "id": "J3pD-oBohSuf",
        "outputId": "c850e26a-9cd0-4d97-a14d-d1c5b52383a3"
      },
      "source": [
        "# Adding TSLA \n",
        "s_1 = pd.read_csv(\"TSLA.csv\")\n",
        "s_1.set_index(['Date'],inplace=True)\n",
        "s_1 = s_1[\"Close\"]\n",
        "prices.loc[:, 'TSLA'] = s_1\n",
        "\n",
        "# Dropping XOM\n",
        "prices = prices.drop('XOM', axis=1)\n",
        "prices.head(5)"
      ],
      "execution_count": null,
      "outputs": [
        {
          "output_type": "execute_result",
          "data": {
            "text/html": [
              "<div>\n",
              "<style scoped>\n",
              "    .dataframe tbody tr th:only-of-type {\n",
              "        vertical-align: middle;\n",
              "    }\n",
              "\n",
              "    .dataframe tbody tr th {\n",
              "        vertical-align: top;\n",
              "    }\n",
              "\n",
              "    .dataframe thead th {\n",
              "        text-align: right;\n",
              "    }\n",
              "</style>\n",
              "<table border=\"1\" class=\"dataframe\">\n",
              "  <thead>\n",
              "    <tr style=\"text-align: right;\">\n",
              "      <th></th>\n",
              "      <th>BP</th>\n",
              "      <th>COP</th>\n",
              "      <th>TOT</th>\n",
              "      <th>TSLA</th>\n",
              "    </tr>\n",
              "    <tr>\n",
              "      <th>Date</th>\n",
              "      <th></th>\n",
              "      <th></th>\n",
              "      <th></th>\n",
              "      <th></th>\n",
              "    </tr>\n",
              "  </thead>\n",
              "  <tbody>\n",
              "    <tr>\n",
              "      <th>2012-01-03</th>\n",
              "      <td>44.139999</td>\n",
              "      <td>56.541019</td>\n",
              "      <td>52.470001</td>\n",
              "      <td>5.616</td>\n",
              "    </tr>\n",
              "    <tr>\n",
              "      <th>2012-01-04</th>\n",
              "      <td>44.750000</td>\n",
              "      <td>56.274208</td>\n",
              "      <td>52.270000</td>\n",
              "      <td>5.542</td>\n",
              "    </tr>\n",
              "    <tr>\n",
              "      <th>2012-01-05</th>\n",
              "      <td>44.250000</td>\n",
              "      <td>55.824444</td>\n",
              "      <td>51.209999</td>\n",
              "      <td>5.424</td>\n",
              "    </tr>\n",
              "    <tr>\n",
              "      <th>2012-01-06</th>\n",
              "      <td>44.080002</td>\n",
              "      <td>55.389919</td>\n",
              "      <td>50.750000</td>\n",
              "      <td>5.382</td>\n",
              "    </tr>\n",
              "    <tr>\n",
              "      <th>2012-01-09</th>\n",
              "      <td>44.070000</td>\n",
              "      <td>55.603371</td>\n",
              "      <td>51.250000</td>\n",
              "      <td>5.450</td>\n",
              "    </tr>\n",
              "  </tbody>\n",
              "</table>\n",
              "</div>"
            ],
            "text/plain": [
              "                   BP        COP        TOT   TSLA\n",
              "Date                                              \n",
              "2012-01-03  44.139999  56.541019  52.470001  5.616\n",
              "2012-01-04  44.750000  56.274208  52.270000  5.542\n",
              "2012-01-05  44.250000  55.824444  51.209999  5.424\n",
              "2012-01-06  44.080002  55.389919  50.750000  5.382\n",
              "2012-01-09  44.070000  55.603371  51.250000  5.450"
            ]
          },
          "metadata": {
            "tags": []
          },
          "execution_count": 208
        }
      ]
    },
    {
      "cell_type": "markdown",
      "metadata": {
        "deletable": true,
        "editable": true,
        "id": "4DYsjF95hSuf"
      },
      "source": [
        "## b. DataFrame Manipulation (again)\n",
        "- Concatenate these DataFrames.\n",
        "- Fill the missing data with 0s"
      ]
    },
    {
      "cell_type": "code",
      "metadata": {
        "deletable": true,
        "editable": true,
        "colab": {
          "base_uri": "https://localhost:8080/",
          "height": 419
        },
        "id": "vl5P5zjthSug",
        "outputId": "cc9aa698-cf80-4bb6-9224-0986f53994ea"
      },
      "source": [
        "# Concatenate these dataframes\n",
        "#df_1 = get_pricing(['SPY', 'VXX'], start_date=start, end_date=end, fields='price')\n",
        "\n",
        "L1 = []\n",
        "\n",
        "L1.append(pd.read_csv(\"SPY.csv\"))\n",
        "L1.append(pd.read_csv(\"VXRT.csv\"))\n",
        "\n",
        "df_1 = pd.concat(L1, axis=1, ignore_index=True)\n",
        "\n",
        "df_1 = df_1.iloc[:, [0, 4, 11]]\n",
        "df_1.columns = [\"Date\", \"SPY\", \"VXRT\"]\n",
        "\n",
        "L2 = []\n",
        "#df_2 = get_pricing(['MSFT', 'AAPL', 'GOOG'], start_date=start, end_date=end, fields='price')\n",
        "\n",
        "L2.append(pd.read_csv(\"MSFT.csv\"))\n",
        "L2.append(pd.read_csv(\"AAPL.csv\"))\n",
        "L2.append(pd.read_csv(\"GOOG.csv\"))\n",
        "\n",
        "df_2 = pd.concat(L2, axis=1, ignore_index=True)\n",
        "\n",
        "df_2 = df_2.iloc[:, [0, 4, 11, 18]]\n",
        "df_2.columns = [\"Date\", \"MSFT\", \"AAPL\", \"GOOG\"]\n",
        "\n",
        "L3 = []\n",
        "\n",
        "L3.append(df_1)\n",
        "L3.append(df_2)\n",
        "\n",
        "df_3 = pd.concat(L3, axis=1, ignore_index=True)\n",
        "\n",
        "df_3 = df_3.iloc[:, [0, 1, 2, 4, 5, 6]]\n",
        "df_3.columns = [\"Date\", \"SPY\", \"VXRT\", \"MSFT\", \"AAPL\", \"GOOG\"]\n",
        "\n",
        "df_3"
      ],
      "execution_count": null,
      "outputs": [
        {
          "output_type": "execute_result",
          "data": {
            "text/html": [
              "<div>\n",
              "<style scoped>\n",
              "    .dataframe tbody tr th:only-of-type {\n",
              "        vertical-align: middle;\n",
              "    }\n",
              "\n",
              "    .dataframe tbody tr th {\n",
              "        vertical-align: top;\n",
              "    }\n",
              "\n",
              "    .dataframe thead th {\n",
              "        text-align: right;\n",
              "    }\n",
              "</style>\n",
              "<table border=\"1\" class=\"dataframe\">\n",
              "  <thead>\n",
              "    <tr style=\"text-align: right;\">\n",
              "      <th></th>\n",
              "      <th>Date</th>\n",
              "      <th>SPY</th>\n",
              "      <th>VXRT</th>\n",
              "      <th>MSFT</th>\n",
              "      <th>AAPL</th>\n",
              "      <th>GOOG</th>\n",
              "    </tr>\n",
              "  </thead>\n",
              "  <tbody>\n",
              "    <tr>\n",
              "      <th>0</th>\n",
              "      <td>2012-01-03</td>\n",
              "      <td>127.500000</td>\n",
              "      <td>124.739998</td>\n",
              "      <td>26.770000</td>\n",
              "      <td>14.686786</td>\n",
              "      <td>331.462585</td>\n",
              "    </tr>\n",
              "    <tr>\n",
              "      <th>1</th>\n",
              "      <td>2012-01-04</td>\n",
              "      <td>127.699997</td>\n",
              "      <td>122.760002</td>\n",
              "      <td>27.400000</td>\n",
              "      <td>14.765714</td>\n",
              "      <td>332.892242</td>\n",
              "    </tr>\n",
              "    <tr>\n",
              "      <th>2</th>\n",
              "      <td>2012-01-05</td>\n",
              "      <td>128.039993</td>\n",
              "      <td>123.419998</td>\n",
              "      <td>27.680000</td>\n",
              "      <td>14.929643</td>\n",
              "      <td>328.274536</td>\n",
              "    </tr>\n",
              "    <tr>\n",
              "      <th>3</th>\n",
              "      <td>2012-01-06</td>\n",
              "      <td>127.709999</td>\n",
              "      <td>122.760002</td>\n",
              "      <td>28.110001</td>\n",
              "      <td>15.085714</td>\n",
              "      <td>323.796326</td>\n",
              "    </tr>\n",
              "    <tr>\n",
              "      <th>4</th>\n",
              "      <td>2012-01-09</td>\n",
              "      <td>128.020004</td>\n",
              "      <td>120.779999</td>\n",
              "      <td>27.740000</td>\n",
              "      <td>15.061786</td>\n",
              "      <td>310.067780</td>\n",
              "    </tr>\n",
              "    <tr>\n",
              "      <th>...</th>\n",
              "      <td>...</td>\n",
              "      <td>...</td>\n",
              "      <td>...</td>\n",
              "      <td>...</td>\n",
              "      <td>...</td>\n",
              "      <td>...</td>\n",
              "    </tr>\n",
              "    <tr>\n",
              "      <th>1001</th>\n",
              "      <td>2015-12-24</td>\n",
              "      <td>205.679993</td>\n",
              "      <td>21.340000</td>\n",
              "      <td>55.669998</td>\n",
              "      <td>27.007500</td>\n",
              "      <td>748.400024</td>\n",
              "    </tr>\n",
              "    <tr>\n",
              "      <th>1002</th>\n",
              "      <td>2015-12-28</td>\n",
              "      <td>205.210007</td>\n",
              "      <td>22.110001</td>\n",
              "      <td>55.950001</td>\n",
              "      <td>26.705000</td>\n",
              "      <td>762.510010</td>\n",
              "    </tr>\n",
              "    <tr>\n",
              "      <th>1003</th>\n",
              "      <td>2015-12-29</td>\n",
              "      <td>207.399994</td>\n",
              "      <td>21.559999</td>\n",
              "      <td>56.549999</td>\n",
              "      <td>27.184999</td>\n",
              "      <td>776.599976</td>\n",
              "    </tr>\n",
              "    <tr>\n",
              "      <th>1004</th>\n",
              "      <td>2015-12-30</td>\n",
              "      <td>205.929993</td>\n",
              "      <td>21.230000</td>\n",
              "      <td>56.310001</td>\n",
              "      <td>26.830000</td>\n",
              "      <td>771.000000</td>\n",
              "    </tr>\n",
              "    <tr>\n",
              "      <th>1005</th>\n",
              "      <td>2015-12-31</td>\n",
              "      <td>203.869995</td>\n",
              "      <td>21.340000</td>\n",
              "      <td>55.480000</td>\n",
              "      <td>26.315001</td>\n",
              "      <td>758.880005</td>\n",
              "    </tr>\n",
              "  </tbody>\n",
              "</table>\n",
              "<p>1006 rows × 6 columns</p>\n",
              "</div>"
            ],
            "text/plain": [
              "            Date         SPY        VXRT       MSFT       AAPL        GOOG\n",
              "0     2012-01-03  127.500000  124.739998  26.770000  14.686786  331.462585\n",
              "1     2012-01-04  127.699997  122.760002  27.400000  14.765714  332.892242\n",
              "2     2012-01-05  128.039993  123.419998  27.680000  14.929643  328.274536\n",
              "3     2012-01-06  127.709999  122.760002  28.110001  15.085714  323.796326\n",
              "4     2012-01-09  128.020004  120.779999  27.740000  15.061786  310.067780\n",
              "...          ...         ...         ...        ...        ...         ...\n",
              "1001  2015-12-24  205.679993   21.340000  55.669998  27.007500  748.400024\n",
              "1002  2015-12-28  205.210007   22.110001  55.950001  26.705000  762.510010\n",
              "1003  2015-12-29  207.399994   21.559999  56.549999  27.184999  776.599976\n",
              "1004  2015-12-30  205.929993   21.230000  56.310001  26.830000  771.000000\n",
              "1005  2015-12-31  203.869995   21.340000  55.480000  26.315001  758.880005\n",
              "\n",
              "[1006 rows x 6 columns]"
            ]
          },
          "metadata": {
            "tags": []
          },
          "execution_count": 5
        }
      ]
    },
    {
      "cell_type": "code",
      "metadata": {
        "deletable": true,
        "editable": true,
        "colab": {
          "base_uri": "https://localhost:8080/",
          "height": 204
        },
        "id": "dCe_ZvPohSug",
        "outputId": "c7b91c9a-4e59-4fad-ea9e-b58433c5703e"
      },
      "source": [
        "# Fill GOOG missing data with nan\n",
        "filled0_df_3 = df_3.fillna(0)\n",
        "filled0_df_3.head(5)"
      ],
      "execution_count": null,
      "outputs": [
        {
          "output_type": "execute_result",
          "data": {
            "text/html": [
              "<div>\n",
              "<style scoped>\n",
              "    .dataframe tbody tr th:only-of-type {\n",
              "        vertical-align: middle;\n",
              "    }\n",
              "\n",
              "    .dataframe tbody tr th {\n",
              "        vertical-align: top;\n",
              "    }\n",
              "\n",
              "    .dataframe thead th {\n",
              "        text-align: right;\n",
              "    }\n",
              "</style>\n",
              "<table border=\"1\" class=\"dataframe\">\n",
              "  <thead>\n",
              "    <tr style=\"text-align: right;\">\n",
              "      <th></th>\n",
              "      <th>Date</th>\n",
              "      <th>SPY</th>\n",
              "      <th>VXRT</th>\n",
              "      <th>MSFT</th>\n",
              "      <th>AAPL</th>\n",
              "      <th>GOOG</th>\n",
              "    </tr>\n",
              "  </thead>\n",
              "  <tbody>\n",
              "    <tr>\n",
              "      <th>0</th>\n",
              "      <td>2012-01-03</td>\n",
              "      <td>127.500000</td>\n",
              "      <td>124.739998</td>\n",
              "      <td>26.770000</td>\n",
              "      <td>14.686786</td>\n",
              "      <td>331.462585</td>\n",
              "    </tr>\n",
              "    <tr>\n",
              "      <th>1</th>\n",
              "      <td>2012-01-04</td>\n",
              "      <td>127.699997</td>\n",
              "      <td>122.760002</td>\n",
              "      <td>27.400000</td>\n",
              "      <td>14.765714</td>\n",
              "      <td>332.892242</td>\n",
              "    </tr>\n",
              "    <tr>\n",
              "      <th>2</th>\n",
              "      <td>2012-01-05</td>\n",
              "      <td>128.039993</td>\n",
              "      <td>123.419998</td>\n",
              "      <td>27.680000</td>\n",
              "      <td>14.929643</td>\n",
              "      <td>328.274536</td>\n",
              "    </tr>\n",
              "    <tr>\n",
              "      <th>3</th>\n",
              "      <td>2012-01-06</td>\n",
              "      <td>127.709999</td>\n",
              "      <td>122.760002</td>\n",
              "      <td>28.110001</td>\n",
              "      <td>15.085714</td>\n",
              "      <td>323.796326</td>\n",
              "    </tr>\n",
              "    <tr>\n",
              "      <th>4</th>\n",
              "      <td>2012-01-09</td>\n",
              "      <td>128.020004</td>\n",
              "      <td>120.779999</td>\n",
              "      <td>27.740000</td>\n",
              "      <td>15.061786</td>\n",
              "      <td>310.067780</td>\n",
              "    </tr>\n",
              "  </tbody>\n",
              "</table>\n",
              "</div>"
            ],
            "text/plain": [
              "         Date         SPY        VXRT       MSFT       AAPL        GOOG\n",
              "0  2012-01-03  127.500000  124.739998  26.770000  14.686786  331.462585\n",
              "1  2012-01-04  127.699997  122.760002  27.400000  14.765714  332.892242\n",
              "2  2012-01-05  128.039993  123.419998  27.680000  14.929643  328.274536\n",
              "3  2012-01-06  127.709999  122.760002  28.110001  15.085714  323.796326\n",
              "4  2012-01-09  128.020004  120.779999  27.740000  15.061786  310.067780"
            ]
          },
          "metadata": {
            "tags": []
          },
          "execution_count": 171
        }
      ]
    },
    {
      "cell_type": "markdown",
      "metadata": {
        "deletable": true,
        "editable": true,
        "id": "ptfZFZVKhSug"
      },
      "source": [
        "----"
      ]
    },
    {
      "cell_type": "markdown",
      "metadata": {
        "id": "jLS0t9Z5cARq"
      },
      "source": [
        "#Variance and Standard Deviation\n",
        "#Variance\n",
        "Variance is a measure of dispersion. In finance, most of the time variance is a synonym for risk. The higher the variance of an asset price is, the higher risk the asset bears. Variance is usually represented by σ2, and it's calculated by\n",
        "\n",
        "$σ^{2} = \\frac{\\sum_{i=1}^{n}(x_{i}−μ)^{2}}{n}$\n",
        "\n",
        "#Standard Deviation\n",
        "The most commonly used measure of dispersion in finance is standard deviation. It's usually represented by σ. It's obvious to see the relation between standard deviation and variance:\n",
        "\n",
        "$σ=\\sqrt{σ^{2}}=\\sqrt{\\frac{\\sum_{i=1}^{n}(x_{i}−μ)^{2}}{n}}$"
      ]
    },
    {
      "cell_type": "markdown",
      "metadata": {
        "deletable": true,
        "editable": true,
        "id": "0WXdnVuAhSuh"
      },
      "source": [
        "# Exercise 8 : Time Series Analysis\n",
        "## a. Summary\n",
        "- Print out a summary of the `prices` DataFrame from above.\n",
        "- Take the log returns and print the first 10 values.\n",
        "- Print the multiplicative returns of each company.\n",
        "- Normalize and plot the returns from 2014 to 2015.\n",
        "- Plot a 60 day window rolling mean of the prices.\n",
        "- Plot a 60 day window rolling standfard deviation of the prices."
      ]
    },
    {
      "cell_type": "code",
      "metadata": {
        "deletable": true,
        "editable": true,
        "colab": {
          "base_uri": "https://localhost:8080/",
          "height": 297
        },
        "id": "ST5L5SDKhSuh",
        "outputId": "85dcb121-e042-4091-8f46-59aad9a60813"
      },
      "source": [
        "# Summary\n",
        "prices.describe()"
      ],
      "execution_count": null,
      "outputs": [
        {
          "output_type": "execute_result",
          "data": {
            "text/html": [
              "<div>\n",
              "<style scoped>\n",
              "    .dataframe tbody tr th:only-of-type {\n",
              "        vertical-align: middle;\n",
              "    }\n",
              "\n",
              "    .dataframe tbody tr th {\n",
              "        vertical-align: top;\n",
              "    }\n",
              "\n",
              "    .dataframe thead th {\n",
              "        text-align: right;\n",
              "    }\n",
              "</style>\n",
              "<table border=\"1\" class=\"dataframe\">\n",
              "  <thead>\n",
              "    <tr style=\"text-align: right;\">\n",
              "      <th></th>\n",
              "      <th>BP</th>\n",
              "      <th>COP</th>\n",
              "      <th>TOT</th>\n",
              "      <th>TSLA</th>\n",
              "    </tr>\n",
              "  </thead>\n",
              "  <tbody>\n",
              "    <tr>\n",
              "      <th>count</th>\n",
              "      <td>1006.000000</td>\n",
              "      <td>1006.000000</td>\n",
              "      <td>1006.000000</td>\n",
              "      <td>1006.000000</td>\n",
              "    </tr>\n",
              "    <tr>\n",
              "      <th>mean</th>\n",
              "      <td>42.466451</td>\n",
              "      <td>63.255591</td>\n",
              "      <td>54.068310</td>\n",
              "      <td>29.493241</td>\n",
              "    </tr>\n",
              "    <tr>\n",
              "      <th>std</th>\n",
              "      <td>4.734563</td>\n",
              "      <td>9.160613</td>\n",
              "      <td>7.140752</td>\n",
              "      <td>17.935438</td>\n",
              "    </tr>\n",
              "    <tr>\n",
              "      <th>min</th>\n",
              "      <td>29.379999</td>\n",
              "      <td>42.189999</td>\n",
              "      <td>42.139999</td>\n",
              "      <td>4.558000</td>\n",
              "    </tr>\n",
              "    <tr>\n",
              "      <th>25%</th>\n",
              "      <td>40.400002</td>\n",
              "      <td>56.495001</td>\n",
              "      <td>49.310001</td>\n",
              "      <td>7.017000</td>\n",
              "    </tr>\n",
              "    <tr>\n",
              "      <th>50%</th>\n",
              "      <td>42.160000</td>\n",
              "      <td>62.295000</td>\n",
              "      <td>51.910000</td>\n",
              "      <td>35.629999</td>\n",
              "    </tr>\n",
              "    <tr>\n",
              "      <th>75%</th>\n",
              "      <td>45.925000</td>\n",
              "      <td>69.332497</td>\n",
              "      <td>58.267499</td>\n",
              "      <td>45.421500</td>\n",
              "    </tr>\n",
              "    <tr>\n",
              "      <th>max</th>\n",
              "      <td>53.380001</td>\n",
              "      <td>86.760002</td>\n",
              "      <td>73.879997</td>\n",
              "      <td>57.208000</td>\n",
              "    </tr>\n",
              "  </tbody>\n",
              "</table>\n",
              "</div>"
            ],
            "text/plain": [
              "                BP          COP          TOT         TSLA\n",
              "count  1006.000000  1006.000000  1006.000000  1006.000000\n",
              "mean     42.466451    63.255591    54.068310    29.493241\n",
              "std       4.734563     9.160613     7.140752    17.935438\n",
              "min      29.379999    42.189999    42.139999     4.558000\n",
              "25%      40.400002    56.495001    49.310001     7.017000\n",
              "50%      42.160000    62.295000    51.910000    35.629999\n",
              "75%      45.925000    69.332497    58.267499    45.421500\n",
              "max      53.380001    86.760002    73.879997    57.208000"
            ]
          },
          "metadata": {
            "tags": []
          },
          "execution_count": 209
        }
      ]
    },
    {
      "cell_type": "code",
      "metadata": {
        "deletable": true,
        "editable": true,
        "colab": {
          "base_uri": "https://localhost:8080/",
          "height": 390
        },
        "id": "d_BXGSC2hSuj",
        "outputId": "ce3d788d-f6d0-4046-f8b5-2f41b1d520e6"
      },
      "source": [
        "# Natural Log of the returns and print out the first 10 values\n",
        "np.log(prices).head(10)"
      ],
      "execution_count": null,
      "outputs": [
        {
          "output_type": "execute_result",
          "data": {
            "text/html": [
              "<div>\n",
              "<style scoped>\n",
              "    .dataframe tbody tr th:only-of-type {\n",
              "        vertical-align: middle;\n",
              "    }\n",
              "\n",
              "    .dataframe tbody tr th {\n",
              "        vertical-align: top;\n",
              "    }\n",
              "\n",
              "    .dataframe thead th {\n",
              "        text-align: right;\n",
              "    }\n",
              "</style>\n",
              "<table border=\"1\" class=\"dataframe\">\n",
              "  <thead>\n",
              "    <tr style=\"text-align: right;\">\n",
              "      <th></th>\n",
              "      <th>BP</th>\n",
              "      <th>COP</th>\n",
              "      <th>TOT</th>\n",
              "      <th>TSLA</th>\n",
              "    </tr>\n",
              "    <tr>\n",
              "      <th>Date</th>\n",
              "      <th></th>\n",
              "      <th></th>\n",
              "      <th></th>\n",
              "      <th></th>\n",
              "    </tr>\n",
              "  </thead>\n",
              "  <tbody>\n",
              "    <tr>\n",
              "      <th>2012-01-03</th>\n",
              "      <td>3.787366</td>\n",
              "      <td>4.034966</td>\n",
              "      <td>3.960242</td>\n",
              "      <td>1.725620</td>\n",
              "    </tr>\n",
              "    <tr>\n",
              "      <th>2012-01-04</th>\n",
              "      <td>3.801091</td>\n",
              "      <td>4.030236</td>\n",
              "      <td>3.956423</td>\n",
              "      <td>1.712355</td>\n",
              "    </tr>\n",
              "    <tr>\n",
              "      <th>2012-01-05</th>\n",
              "      <td>3.789855</td>\n",
              "      <td>4.022212</td>\n",
              "      <td>3.935935</td>\n",
              "      <td>1.690834</td>\n",
              "    </tr>\n",
              "    <tr>\n",
              "      <th>2012-01-06</th>\n",
              "      <td>3.786006</td>\n",
              "      <td>4.014398</td>\n",
              "      <td>3.926912</td>\n",
              "      <td>1.683060</td>\n",
              "    </tr>\n",
              "    <tr>\n",
              "      <th>2012-01-09</th>\n",
              "      <td>3.785779</td>\n",
              "      <td>4.018244</td>\n",
              "      <td>3.936716</td>\n",
              "      <td>1.695616</td>\n",
              "    </tr>\n",
              "    <tr>\n",
              "      <th>2012-01-10</th>\n",
              "      <td>3.793014</td>\n",
              "      <td>4.022894</td>\n",
              "      <td>3.941776</td>\n",
              "      <td>1.709102</td>\n",
              "    </tr>\n",
              "    <tr>\n",
              "      <th>2012-01-11</th>\n",
              "      <td>3.785552</td>\n",
              "      <td>4.005412</td>\n",
              "      <td>3.928683</td>\n",
              "      <td>1.730947</td>\n",
              "    </tr>\n",
              "    <tr>\n",
              "      <th>2012-01-12</th>\n",
              "      <td>3.788725</td>\n",
              "      <td>3.987901</td>\n",
              "      <td>3.915417</td>\n",
              "      <td>1.731656</td>\n",
              "    </tr>\n",
              "    <tr>\n",
              "      <th>2012-01-13</th>\n",
              "      <td>3.778949</td>\n",
              "      <td>3.981947</td>\n",
              "      <td>3.904596</td>\n",
              "      <td>1.516884</td>\n",
              "    </tr>\n",
              "    <tr>\n",
              "      <th>2012-01-17</th>\n",
              "      <td>3.789629</td>\n",
              "      <td>3.988466</td>\n",
              "      <td>3.932022</td>\n",
              "      <td>1.671473</td>\n",
              "    </tr>\n",
              "  </tbody>\n",
              "</table>\n",
              "</div>"
            ],
            "text/plain": [
              "                  BP       COP       TOT      TSLA\n",
              "Date                                              \n",
              "2012-01-03  3.787366  4.034966  3.960242  1.725620\n",
              "2012-01-04  3.801091  4.030236  3.956423  1.712355\n",
              "2012-01-05  3.789855  4.022212  3.935935  1.690834\n",
              "2012-01-06  3.786006  4.014398  3.926912  1.683060\n",
              "2012-01-09  3.785779  4.018244  3.936716  1.695616\n",
              "2012-01-10  3.793014  4.022894  3.941776  1.709102\n",
              "2012-01-11  3.785552  4.005412  3.928683  1.730947\n",
              "2012-01-12  3.788725  3.987901  3.915417  1.731656\n",
              "2012-01-13  3.778949  3.981947  3.904596  1.516884\n",
              "2012-01-17  3.789629  3.988466  3.932022  1.671473"
            ]
          },
          "metadata": {
            "tags": []
          },
          "execution_count": 210
        }
      ]
    },
    {
      "cell_type": "code",
      "metadata": {
        "deletable": true,
        "editable": true,
        "colab": {
          "base_uri": "https://localhost:8080/",
          "height": 235
        },
        "id": "xuDsdnBohSuj",
        "outputId": "36fd72b6-4f96-4217-c32a-461b177eddea"
      },
      "source": [
        "# Multiplicative returns\n",
        "mult_returns = prices.pct_change()[1:]\n",
        "mult_returns.head()"
      ],
      "execution_count": null,
      "outputs": [
        {
          "output_type": "execute_result",
          "data": {
            "text/html": [
              "<div>\n",
              "<style scoped>\n",
              "    .dataframe tbody tr th:only-of-type {\n",
              "        vertical-align: middle;\n",
              "    }\n",
              "\n",
              "    .dataframe tbody tr th {\n",
              "        vertical-align: top;\n",
              "    }\n",
              "\n",
              "    .dataframe thead th {\n",
              "        text-align: right;\n",
              "    }\n",
              "</style>\n",
              "<table border=\"1\" class=\"dataframe\">\n",
              "  <thead>\n",
              "    <tr style=\"text-align: right;\">\n",
              "      <th></th>\n",
              "      <th>BP</th>\n",
              "      <th>COP</th>\n",
              "      <th>TOT</th>\n",
              "      <th>TSLA</th>\n",
              "    </tr>\n",
              "    <tr>\n",
              "      <th>Date</th>\n",
              "      <th></th>\n",
              "      <th></th>\n",
              "      <th></th>\n",
              "      <th></th>\n",
              "    </tr>\n",
              "  </thead>\n",
              "  <tbody>\n",
              "    <tr>\n",
              "      <th>2012-01-04</th>\n",
              "      <td>0.013820</td>\n",
              "      <td>-0.004719</td>\n",
              "      <td>-0.003812</td>\n",
              "      <td>-0.013177</td>\n",
              "    </tr>\n",
              "    <tr>\n",
              "      <th>2012-01-05</th>\n",
              "      <td>-0.011173</td>\n",
              "      <td>-0.007992</td>\n",
              "      <td>-0.020279</td>\n",
              "      <td>-0.021292</td>\n",
              "    </tr>\n",
              "    <tr>\n",
              "      <th>2012-01-06</th>\n",
              "      <td>-0.003842</td>\n",
              "      <td>-0.007784</td>\n",
              "      <td>-0.008983</td>\n",
              "      <td>-0.007743</td>\n",
              "    </tr>\n",
              "    <tr>\n",
              "      <th>2012-01-09</th>\n",
              "      <td>-0.000227</td>\n",
              "      <td>0.003854</td>\n",
              "      <td>0.009852</td>\n",
              "      <td>0.012635</td>\n",
              "    </tr>\n",
              "    <tr>\n",
              "      <th>2012-01-10</th>\n",
              "      <td>0.007261</td>\n",
              "      <td>0.004661</td>\n",
              "      <td>0.005073</td>\n",
              "      <td>0.013578</td>\n",
              "    </tr>\n",
              "  </tbody>\n",
              "</table>\n",
              "</div>"
            ],
            "text/plain": [
              "                  BP       COP       TOT      TSLA\n",
              "Date                                              \n",
              "2012-01-04  0.013820 -0.004719 -0.003812 -0.013177\n",
              "2012-01-05 -0.011173 -0.007992 -0.020279 -0.021292\n",
              "2012-01-06 -0.003842 -0.007784 -0.008983 -0.007743\n",
              "2012-01-09 -0.000227  0.003854  0.009852  0.012635\n",
              "2012-01-10  0.007261  0.004661  0.005073  0.013578"
            ]
          },
          "metadata": {
            "tags": []
          },
          "execution_count": 211
        }
      ]
    },
    {
      "cell_type": "code",
      "metadata": {
        "deletable": true,
        "editable": true,
        "colab": {
          "base_uri": "https://localhost:8080/",
          "height": 296
        },
        "id": "HnJeEnnWhSuk",
        "outputId": "ad575ed8-0e0a-4fa7-bb0a-18cb9136b4be"
      },
      "source": [
        "# Normalizing the returns and plotting one year of data\n",
        "norm_returns = (mult_returns - mult_returns.mean(axis=0))/mult_returns.std(axis=0)\n",
        "norm_returns.loc['2014-01-01':'2015-01-01'].plot()"
      ],
      "execution_count": null,
      "outputs": [
        {
          "output_type": "execute_result",
          "data": {
            "text/plain": [
              "<matplotlib.axes._subplots.AxesSubplot at 0x7f36d26b0090>"
            ]
          },
          "metadata": {
            "tags": []
          },
          "execution_count": 212
        },
        {
          "output_type": "display_data",
          "data": {
            "image/png": "[encoded data removed]",
            "text/plain": [
              "<Figure size 432x288 with 1 Axes>"
            ]
          },
          "metadata": {
            "tags": [],
            "needs_background": "light"
          }
        }
      ]
    },
    {
      "cell_type": "code",
      "metadata": {
        "deletable": true,
        "editable": true,
        "colab": {
          "base_uri": "https://localhost:8080/",
          "height": 573
        },
        "id": "Dg6adS0AhSuk",
        "outputId": "4af2e725-1568-473d-92b1-6a52986e0a40"
      },
      "source": [
        "# Rolling mean\n",
        "rolling_mean = prices.rolling(window=60).mean()\n",
        "\n",
        "# Rolling standard deviation\n",
        "rolling_std = prices.rolling(window=60).std()\n",
        "\n",
        "# Plotting \n",
        "mean = rolling_mean.plot();\n",
        "plt.title(\"Rolling Mean of Prices\")\n",
        "plt.xlabel(\"Date\")\n",
        "plt.ylabel(\"Price\")\n",
        "plt.legend();\n",
        "\n",
        "std = rolling_std.plot();\n",
        "plt.title(\"Rolling standard deviation of Prices\")\n",
        "plt.xlabel(\"Date\")\n",
        "plt.ylabel(\"Price\")\n",
        "plt.legend();"
      ],
      "execution_count": null,
      "outputs": [
        {
          "output_type": "display_data",
          "data": {
            "image/png": "[encoded data removed]",
            "text/plain": [
              "<Figure size 432x288 with 1 Axes>"
            ]
          },
          "metadata": {
            "tags": [],
            "needs_background": "light"
          }
        },
        {
          "output_type": "display_data",
          "data": {
            "image/png": "[encoded data removed]",
            "text/plain": [
              "<Figure size 432x288 with 1 Axes>"
            ]
          },
          "metadata": {
            "tags": [],
            "needs_background": "light"
          }
        }
      ]
    },
    {
      "cell_type": "markdown",
      "metadata": {
        "id": "oo7UN2DohSul"
      },
      "source": [
        "---"
      ]
    },
    {
      "cell_type": "markdown",
      "metadata": {
        "deletable": true,
        "editable": true,
        "id": "zagSYY-phSul"
      },
      "source": [
        "Congratulations on completing the Introduction to pandas exercises!\n",
        "\n",
        "As you learn more about writing trading algorithms and the Quantopian platform, be sure to check out the daily [Quantopian Contest](https://www.quantopian.com/contest), in which you can compete for a cash prize every day.\n",
        "\n",
        "Start by going through the [Writing a Contest Algorithm](https://www.quantopian.com/tutorials/contest) Tutorial."
      ]
    },
    {
      "cell_type": "markdown",
      "metadata": {
        "deletable": true,
        "editable": true,
        "id": "KsUhma55hSum"
      },
      "source": [
        "*This presentation is for informational purposes only and does not constitute an offer to sell, a solicitation to buy, or a recommendation for any security; nor does it constitute an offer to provide investment advisory or other services by Quantopian, Inc. (\"Quantopian\"). Nothing contained herein constitutes investment advice or offers any opinion with respect to the suitability of any security, and any views expressed herein should not be taken as advice to buy, sell, or hold any security or as an endorsement of any security or company.  In preparing the information contained herein, Quantopian, Inc. has not taken into account the investment needs, objectives, and financial circumstances of any particular investor. Any views expressed and data illustrated herein were prepared based upon information, believed to be reliable, available to Quantopian, Inc. at the time of publication. Quantopian makes no guarantees as to their accuracy or completeness. All information is subject to change and may quickly become unreliable for various reasons, including changes in market conditions or economic circumstances.*"
      ]
    }
  ]
}